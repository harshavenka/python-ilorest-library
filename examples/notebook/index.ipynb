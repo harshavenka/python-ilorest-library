{
 "cells": [
  {
   "cell_type": "markdown",
   "id": "bfbd7104-a5e5-4fd8-aa27-178418468c77",
   "metadata": {},
   "source": [
    "|        OPERATION         |          DESCRIPTION                 |          METHOOD            |        EXAMPLE       |\n",
    "|---------------------------------|------------------------------------|------------------------------|-------------------|\n",
    "|bios settings|update bios settings for iLO server| PATCH  |-[change_bios_setting](https://github.com/harshavenka/python-ilorest-library/blob/master/examples/notebook/examples/change_bios_settings.ipynb)-|\n",
    "|bios default| update bios to default setting | PATCH  |-[revert_bios_default](https://github.com/harshavenka/python-ilorest-library/blob/master/examples/notebook/examples/bios_revert_default.ipynb)-|\n",
    "|powermetrics average|get powewr measurement average of servers|GET|[get_powermetrics_average](https://github.com/harshavenka/python-ilorest-library/blob/master/examples/notebook/examples/get_powermetrics_average.ipynb)|\n",
    "|change boot order|update the existing boot order or add new order| PUT  |-[change_boot_order](#)-|\n",
    "|change temporary boot order|update or reset an temporary boot order| PUT  |-[change_temporary_boot_order](#)-|\n",
    "|clear ahs data | clear active health state data of iLO server| DELETE  |-[clear_ahs_data](https://github.com/harshavenka/python-ilorest-library/blob/master/examples/notebook/examples/clear_ahs_data.ipynb)-|\n",
    "|computer details|get all the available computer/hosts details in iLO| GET  |-[computer_details](https://github.com/harshavenka/python-ilorest-library/blob/master/examples/notebook/examples/computer_details.ipynb)-|\n",
    "|expand data|expand the response data obtained from any of the http methods|GET|-[expand_data](#)-|\n",
    "|generate_csr|obtain a certificate signing request for iLO server | GET  |-[generate_csr](https://github.com/harshavenka/python-ilorest-library/blob/master/examples/notebook/examples/generate_csr.ipynb)-|\n",
    "|get ahs info|obtain active health status data of the iLO servers|GET|[get_ahs_data](https://github.com/harshavenka/python-ilorest-library/blob/master/examples/notebook/examples/get_ahs_data.ipynb)|\n",
    "|base message registry|get base message registry info of iLO servers|GET|[get_base_registry](#)|\n",
    "|iLO ip address|obtain the ip address of iLO servers|GET|[get_ilo_ip](#)|\n",
    "|License key|get iLO license key for iLO|GET|[get_license_key](#)|\n",
    "|resource directory info|get uri of resource directory in iLO|GET|[get_resource_directory](#)|\n",
    
  }
 ],
 "metadata": {
  "kernelspec": {
   "display_name": "Python 3 (ipykernel)",
   "language": "python",
   "name": "python3"
  },
  "language_info": {
   "codemirror_mode": {
    "name": "ipython",
    "version": 3
   },
   "file_extension": ".py",
   "mimetype": "text/x-python",
   "name": "python",
   "nbconvert_exporter": "python",
   "pygments_lexer": "ipython3",
   "version": "3.10.1"
  }
 },
 "nbformat": 4,
 "nbformat_minor": 5
}
