{
 "cells": [
  {
   "cell_type": "markdown",
   "id": "453f77bb-9a66-492a-bf03-a737b524a484",
   "metadata": {},
   "source": [
    "|OPERATION|DESCRIPTION| METHOD | LOCATION |\n",
    "|-------------|--------------------------------------|-------------------------|------------------------|\n",
    "|bios settings|update bios settings for iLO server| PATCH  |[change_bios_setting](examples/change_bios_settings.ipynb)|\n",
    "|bios default| update bios to default setting | PATCH  |[revert_bios_default](examples/bios_revert_default.ipynb)|\n",
    "|powermetrics average|get powewr measurement average of servers| GET |[get_powermetrics_average](examples/get_powermetrics_average.ipynb)|\n",
    "|change boot order|update the existing boot order or add new order| PUT  |[change_boot_order](examples/change_bios_settings.ipynb)|\n",
    "|change temporary boot order|update or reset an temporary boot order| PUT  |[change_temporary_boot_order](examples/change_bios_settings.ipynb)|\n",
    "|clear ahs data | clear active health state data of iLO server| DELETE  |[clear_ahs_data](examples/clear_ahs_data.ipynb)|\n",
    "|computer details|get all the available computer/hosts details in iLO| GET  |[computer_details](examples/computer_details.ipynb)|\n",
    "|expand data|expand the response data obtained from any of the http methods| GET |[expand_data](examples/change_bios_settings.ipynb)\n",
    "|generate_csr|obtain a certificate signing request for iLO server | GET  |[generate_csr](examples/generate_csr.ipynb)|\n",
    "|get ahs info|obtain active health status data of the iLO servers| GET |[get_ahs_data](examples/get_ahs_data.ipynb)|\n",
    "|base message registry|get base message registry info of iLO servers| GET |[get_base_registry](examples/change_bios_settings.ipynb)|\n",
    "|iLO ip address|obtain the ip address of iLO servers| GET |[get_ilo_ip](examples/get_ilo_ip.ipynb)|\n",
    "|License key|get iLO license key for iLO| GET |[get_license_key](examples/get_license_key.ipynb)|\n"
   ]
  },
  {
   "cell_type": "markdown",
   "id": "974fdedd-2bb1-4a4c-adb5-a6052e134085",
   "metadata": {},
   "source": []
  }
 ],
 "metadata": {
  "kernelspec": {
   "display_name": "Python 3 (ipykernel)",
   "language": "python",
   "name": "python3"
  },
  "language_info": {
   "codemirror_mode": {
    "name": "ipython",
    "version": 3
   },
   "file_extension": ".py",
   "mimetype": "text/x-python",
   "name": "python",
   "nbconvert_exporter": "python",
   "pygments_lexer": "ipython3",
   "version": "3.8.6"
  }
 },
 "nbformat": 4,
 "nbformat_minor": 5
}
