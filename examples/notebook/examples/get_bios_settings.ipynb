{
 "cells": [
  {
   "cell_type": "markdown",
   "metadata": {},
   "source": [
    "# GETTING BIOS SETTINGS"
   ]
  },
  {
   "cell_type": "markdown",
   "metadata": {},
   "source": [
    "<div class=\"alert alert-block alert-info\">\n",
    "<i>Hello User.!<br></i> Welcome to <b>python-iLOrest-library</b> <br> This is the example to <b>getting bios(basic input/output system) settings about HPE iLO system.</b> <br> As you are here let's get it done easily.<br>\n",
    "    To perform this u need to have <a href = \"https://github.com/HewlettPackard/python-ilorest-library\" style = \"background-color:white\">python-ilorest-library</a> installed in your machine.<br>\n",
    "    And please keep your username and password handy!\n",
    "    <br>\n",
    "    <b>Also do execute each successive cell once to avoid any errors!</b>\n",
    "    \n",
    "</div>"
   ]
  },
  {
   "cell_type": "markdown",
   "metadata": {},
   "source": [
    "<div class = \"alert alert-block alert-success\">\n",
    "    <div style = \"color:green; font-size:40px;\">1.</div>\n",
    "    <br>\n",
    "    In the beginning, we are having some import statements that are actually providing us with the required modules and libraries\n",
    "for proper execution of our code.</div>"
   ]
  },
  {
   "cell_type": "code",
   "execution_count": 3,
   "metadata": {},
   "outputs": [
    {
     "ename": "ModuleNotFoundError",
     "evalue": "No module named 'get_resource_directory'",
     "output_type": "error",
     "traceback": [
      "\u001b[1;31m---------------------------------------------------------------------------\u001b[0m",
      "\u001b[1;31mModuleNotFoundError\u001b[0m                       Traceback (most recent call last)",
      "\u001b[1;32m~\\AppData\\Local\\Temp/ipykernel_32988/3250876042.py\u001b[0m in \u001b[0;36m<module>\u001b[1;34m\u001b[0m\n\u001b[0;32m      8\u001b[0m \u001b[1;32mfrom\u001b[0m \u001b[0mredfish\u001b[0m\u001b[1;33m.\u001b[0m\u001b[0mrest\u001b[0m\u001b[1;33m.\u001b[0m\u001b[0mv1\u001b[0m \u001b[1;32mimport\u001b[0m \u001b[0mServerDownOrUnreachableError\u001b[0m\u001b[1;33m\u001b[0m\u001b[1;33m\u001b[0m\u001b[0m\n\u001b[0;32m      9\u001b[0m \u001b[1;33m\u001b[0m\u001b[0m\n\u001b[1;32m---> 10\u001b[1;33m \u001b[1;32mfrom\u001b[0m \u001b[0mget_resource_directory\u001b[0m \u001b[1;32mimport\u001b[0m \u001b[0mget_resource_directory\u001b[0m\u001b[1;33m\u001b[0m\u001b[1;33m\u001b[0m\u001b[0m\n\u001b[0m\u001b[0;32m     11\u001b[0m \u001b[1;33m\u001b[0m\u001b[0m\n",
      "\u001b[1;31mModuleNotFoundError\u001b[0m: No module named 'get_resource_directory'"
     ]
    }
   ],
   "source": [
    "\n",
    "\"\"\"\n",
    "An example of retrieving bios settings from iLO servers.\n",
    "\"\"\"\n",
    "\n",
    "import sys\n",
    "import json\n",
    "from redfish import RedfishClient\n",
    "from redfish.rest.v1 import ServerDownOrUnreachableError\n",
    "\n",
    "from get_resource_directory import get_resource_directory\n",
    "\n"
   ]
  },
  {
   "cell_type": "markdown",
   "metadata": {},
   "source": [
    "<div class = \"alert alert-block alert-success\">\n",
    "    <div style = \"color:green; font-size:40px;\">2.</div><br>\n",
    "    Below is the get_bios_settings function, after everything is done this function will give details about bios settings of system.<br>\n",
    "    <i>Let me give you a walk through of it!</i>\n",
    "    <br>\n",
    "    There is a hierarchy involved in iLO Rest Api and everything is in form of <a href = \"https://www.w3schools.com/whatis/whatis_json.asp\" style = \"background-color:powderblue;\">JSON</a> objects i.e. name-value pairs. So we are simply following the hierarchy to navigate to required information.\n",
    "\n",
    "1. In the <b>get_bios_setting</b> function we are first using <b>resource_instances</b> variable to obtain information about the resource directory by using <i>get_resource_directory</i> module.\n",
    "<br>\n",
    "    \n",
    "2. In case the resource directory was disabled we are using systems making a series of http <a href = \"https://developer.mozilla.org/en-US/docs/Web/HTTP/Methods\" style=\"background-color:powderblue;\">GET</a>. requests to the server so as to obtain info about bios settings.\n",
    "    <ul>\n",
    "    <li>The information about bios settings is present inside a particular json object of iLO rest api. </li><li>We just need to navigate to that directory so as to obtain info about bios settings.</li> <li>For that purpose simply we are making series of get requests.</li>\n",
    "        We make a final get operation by at the location <b>bios_uri</b>  and save the response inside <b>bios_data.</b>\n",
    "    </ul>\n",
    "    <br>\n",
    " \n",
    "\n",
    "3. Else if resource directory is enabled then we will simply iterate through all instances inside resources \n",
    "    and if #bios attribute is present in <b>@odata.type</b> attribute then we'll store information about bios settings of the system inside of bios_data variable and break out of iteration.\n",
    "    <br>\n",
    "\n",
    "Ultimately, if bios_data variable is not null we print out information about bios settings. \n",
    "\n",
    " </div>"
   ]
  },
  {
   "cell_type": "code",
   "execution_count": 4,
   "metadata": {},
   "outputs": [],
   "source": [
    "def get_bios_setting(_redfishobj):\n",
    "\n",
    "    bios_uri = None\n",
    "    bios_data = None\n",
    "    resource_instances = get_resource_directory(_redfishobj)\n",
    "    if DISABLE_RESOURCE_DIR or not resource_instances:\n",
    "        #if we do not have a resource directory or want to force it's non use to find the\n",
    "        #relevant URI\n",
    "        systems_uri = _redfishobj.root.obj['Systems']['@odata.id']\n",
    "        systems_response = _redfishobj.get(systems_uri)\n",
    "        systems_members_uri = next(iter(systems_response.obj['Members']))['@odata.id']\n",
    "        systems_members_response = _redfishobj.get(systems_members_uri)\n",
    "        bios_uri = systems_members_response.obj['Bios']['@odata.id']\n",
    "        bios_data = _redfishobj.get(bios_uri)\n",
    "    else:\n",
    "        #Use Resource directory to find the relevant URI\n",
    "        for instance in resource_instances:\n",
    "            if '#Bios.' in instance['@odata.type']:\n",
    "                bios_uri = instance['@odata.id']\n",
    "                bios_data = _redfishobj.get(bios_uri)\n",
    "                break\n",
    "\n",
    "    if bios_data:\n",
    "        print(\"\\n\\nShowing bios attributes before changes:\\n\\n\")\n",
    "        print(json.dumps(bios_data.dict, indent=4, sort_keys=True))"
   ]
  },
  {
   "cell_type": "markdown",
   "metadata": {},
   "source": [
    "<div class=\"alert alert-block alert-success\">\n",
    "    <div style = \"color:green; font-size:40px;\">3.</div><br>\n",
    "<b>The Main function: </b> PLEASE ENTER YOU LOGIN CREDENTIALS HERE TO PROCEED FURTHER<br>\n",
    "    <ul>\n",
    "        <li>Once your credentials that are enter everything a redfish obejct is created with the help of RedfishClient class and a session is created and now you will be logged in to the server.</li>\n",
    "        <li>If server is down or Unreachable we get server not reachable message!</li>\n",
    "        <li>If not then we make a call to <b>get_bios_settings function</b> to obtain information about bios settings of system.</li>\n",
    "        <li>After getting required information <i><b>Redfish.logout()</b></i>closses the particular session and logs us out of the system.</li>\n",
    "    </ul>\n",
    "</div>"
   ]
  },
  {
   "cell_type": "code",
   "execution_count": 5,
   "metadata": {},
   "outputs": [
    {
     "name": "stdin",
     "output_type": "stream",
     "text": [
      "Enter iLO IP address:  15.146.51.201\n",
      "Enter Username:  Administrator\n",
      "Enter password:  12iso*help\n"
     ]
    },
    {
     "name": "stderr",
     "output_type": "stream",
     "text": [
      "Initializing no proxy.\n",
      "Redirecting 15.146.51.201/redfish/v1/ -> https://15.146.51.201/redfish/v1/\n",
      "Response Time to /redfish/v1/: 0.7119622230529785 seconds.\n",
      "Performing session authentication.\n",
      "Redirecting 15.146.51.201/redfish/v1/SessionService/Sessions/ -> https://15.146.51.201/redfish/v1/SessionService/Sessions/\n",
      "Response Time to /redfish/v1/SessionService/Sessions/: 0.22123003005981445 seconds.\n",
      "{'@odata.context': '/redfish/v1/$metadata#Session.Session', '@odata.etag': 'W/\"EF381FA6\"', '@odata.id': '/redfish/v1/SessionService/Sessions/administrator0000000062d1d7e66bc6a71f/', '@odata.type': '#Session.v1_0_0.Session', 'Id': 'administrator0000000062d1d7e66bc6a71f', 'Description': 'Manager User Session', 'Name': 'User Session', 'Oem': {'Hpe': {'@odata.context': '/redfish/v1/$metadata#HpeiLOSession.HpeiLOSession', '@odata.type': '#HpeiLOSession.v2_1_0.HpeiLOSession', 'AccessTime': '2022-07-15T21:11:02Z', 'LoginTime': '2022-07-15T21:11:02Z', 'MySession': False, 'UserExpires': '2022-07-15T21:41:02Z', 'UserIP': '16.242.171.23', 'UserTag': 'REST', 'UserType': 'Local'}}, 'UserName': 'Administrator'}\n",
      "Login returned code 201: {\"@odata.context\":\"/redfish/v1/$metadata#Session.Session\",\"@odata.etag\":\"W/\\\"EF381FA6\\\"\",\"@odata.id\":\"/redfish/v1/SessionService/Sessions/administrator0000000062d1d7e66bc6a71f/\",\"@odata.type\":\"#Session.v1_0_0.Session\",\"Id\":\"administrator0000000062d1d7e66bc6a71f\",\"Description\":\"Manager User Session\",\"Name\":\"User Session\",\"Oem\":{\"Hpe\":{\"@odata.context\":\"/redfish/v1/$metadata#HpeiLOSession.HpeiLOSession\",\"@odata.type\":\"#HpeiLOSession.v2_1_0.HpeiLOSession\",\"AccessTime\":\"2022-07-15T21:11:02Z\",\"LoginTime\":\"2022-07-15T21:11:02Z\",\"MySession\":false,\"UserExpires\":\"2022-07-15T21:41:02Z\",\"UserIP\":\"16.242.171.23\",\"UserTag\":\"REST\",\"UserType\":\"Local\"}},\"UserName\":\"Administrator\"}\n"
     ]
    },
    {
     "ename": "NameError",
     "evalue": "name 'get_resource_directory' is not defined",
     "output_type": "error",
     "traceback": [
      "\u001b[1;31m---------------------------------------------------------------------------\u001b[0m",
      "\u001b[1;31mNameError\u001b[0m                                 Traceback (most recent call last)",
      "\u001b[1;32m~\\AppData\\Local\\Temp/ipykernel_32988/1002653862.py\u001b[0m in \u001b[0;36m<module>\u001b[1;34m\u001b[0m\n\u001b[0;32m     19\u001b[0m         \u001b[0msys\u001b[0m\u001b[1;33m.\u001b[0m\u001b[0mexit\u001b[0m\u001b[1;33m(\u001b[0m\u001b[1;33m)\u001b[0m\u001b[1;33m\u001b[0m\u001b[1;33m\u001b[0m\u001b[0m\n\u001b[0;32m     20\u001b[0m \u001b[1;33m\u001b[0m\u001b[0m\n\u001b[1;32m---> 21\u001b[1;33m     \u001b[0mget_bios_setting\u001b[0m\u001b[1;33m(\u001b[0m\u001b[0mREDFISHOBJ\u001b[0m\u001b[1;33m)\u001b[0m\u001b[1;33m\u001b[0m\u001b[1;33m\u001b[0m\u001b[0m\n\u001b[0m\u001b[0;32m     22\u001b[0m     \u001b[0mREDFISHOBJ\u001b[0m\u001b[1;33m.\u001b[0m\u001b[0mlogout\u001b[0m\u001b[1;33m(\u001b[0m\u001b[1;33m)\u001b[0m\u001b[1;33m\u001b[0m\u001b[1;33m\u001b[0m\u001b[0m\n",
      "\u001b[1;32m~\\AppData\\Local\\Temp/ipykernel_32988/2147433219.py\u001b[0m in \u001b[0;36mget_bios_setting\u001b[1;34m(_redfishobj)\u001b[0m\n\u001b[0;32m      3\u001b[0m     \u001b[0mbios_uri\u001b[0m \u001b[1;33m=\u001b[0m \u001b[1;32mNone\u001b[0m\u001b[1;33m\u001b[0m\u001b[1;33m\u001b[0m\u001b[0m\n\u001b[0;32m      4\u001b[0m     \u001b[0mbios_data\u001b[0m \u001b[1;33m=\u001b[0m \u001b[1;32mNone\u001b[0m\u001b[1;33m\u001b[0m\u001b[1;33m\u001b[0m\u001b[0m\n\u001b[1;32m----> 5\u001b[1;33m     \u001b[0mresource_instances\u001b[0m \u001b[1;33m=\u001b[0m \u001b[0mget_resource_directory\u001b[0m\u001b[1;33m(\u001b[0m\u001b[0m_redfishobj\u001b[0m\u001b[1;33m)\u001b[0m\u001b[1;33m\u001b[0m\u001b[1;33m\u001b[0m\u001b[0m\n\u001b[0m\u001b[0;32m      6\u001b[0m     \u001b[1;32mif\u001b[0m \u001b[0mDISABLE_RESOURCE_DIR\u001b[0m \u001b[1;32mor\u001b[0m \u001b[1;32mnot\u001b[0m \u001b[0mresource_instances\u001b[0m\u001b[1;33m:\u001b[0m\u001b[1;33m\u001b[0m\u001b[1;33m\u001b[0m\u001b[0m\n\u001b[0;32m      7\u001b[0m         \u001b[1;31m#if we do not have a resource directory or want to force it's non use to find the\u001b[0m\u001b[1;33m\u001b[0m\u001b[1;33m\u001b[0m\u001b[1;33m\u001b[0m\u001b[0m\n",
      "\u001b[1;31mNameError\u001b[0m: name 'get_resource_directory' is not defined"
     ]
    }
   ],
   "source": [
    "if __name__ == \"__main__\":\n",
    "    \n",
    "    SYSTEM_URL = input(\"Enter iLO IP address: \")\n",
    "    LOGIN_ACCOUNT = input(\"Enter Username: \")\n",
    "    LOGIN_PASSWORD = input(\"Enter password: \")\n",
    "\n",
    "    # flag to force disable resource directory. Resource directory and associated operations are\n",
    "    # intended for HPE servers.\n",
    "    DISABLE_RESOURCE_DIR = False\n",
    "\n",
    "    try:\n",
    "        # Create a Redfish client object\n",
    "        REDFISHOBJ = RedfishClient(base_url=SYSTEM_URL, username=LOGIN_ACCOUNT, \\\n",
    "                                                                            password=LOGIN_PASSWORD)\n",
    "        # Login with the Redfish client\n",
    "        REDFISHOBJ.login()\n",
    "    except ServerDownOrUnreachableError as excp:\n",
    "        sys.stderr.write(\"ERROR: server not reachable or does not support RedFish.\\n\")\n",
    "        sys.exit()\n",
    "\n",
    "    get_bios_setting(REDFISHOBJ)\n",
    "    REDFISHOBJ.logout()"
   ]
  },
  {
   "cell_type": "markdown",
   "metadata": {},
   "source": [
    "<div class = \"alert alert-block alert-warning\">\n",
    "    <b>When running on the server locally use the following commented values</b><br>\n",
    " SYSTEM_URL = None<br>\n",
    " LOGIN_ACCOUNT = None<br>\n",
    " LOGIN_PASSWORD = None<br>\n",
    "\n",
    "   <b>When running remotely</b> connect using the secured (https://) address,\n",
    "     account name, and password to send https requests\n",
    "    <br>\n",
    "     SYSTEM_URL acceptable examples:<br>\n",
    "     https://10.0.0.100<br>\n",
    "     https://ilo.hostname\n",
    "</div>"
   ]
  },
  {
   "cell_type": "markdown",
   "metadata": {},
   "source": [
    "<div class = \"alert alert-block alert-success\">In case you need help 🔗 links to relevant resources :\n",
    "    <br>\n",
    "    1.Python-ilorest-library:<a href = \"https://github.com/HewlettPackard/python-ilorest-library\">LINK</a><br>\n",
    "    2.Hpe ilorest-api explorer:<a href = \"https://ilorestfulapiexplorer.ext.hpe.com/\">LINK</a><br>\n",
    "    3.Rest api: <a href = \"https://restfulapi.net/\">LINK</a><br>\n",
    "    \n",
    "</div>"
   ]
  }
 ],
 "metadata": {
  "kernelspec": {
   "display_name": "Python 3 (ipykernel)",
   "language": "python",
   "name": "python3"
  },
  "language_info": {
   "codemirror_mode": {
    "name": "ipython",
    "version": 3
   },
   "file_extension": ".py",
   "mimetype": "text/x-python",
   "name": "python",
   "nbconvert_exporter": "python",
   "pygments_lexer": "ipython3",
   "version": "3.8.6"
  }
 },
 "nbformat": 4,
 "nbformat_minor": 4
}
