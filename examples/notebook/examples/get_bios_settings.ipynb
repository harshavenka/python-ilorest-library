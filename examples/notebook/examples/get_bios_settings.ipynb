{
 "cells": [
  {
   "cell_type": "markdown",
   "metadata": {},
   "source": [
    "# GETTING BIOS SETTINGS"
   ]
  },
  {
   "cell_type": "markdown",
   "metadata": {},
   "source": [
    "<div class=\"alert alert-block alert-info\">\n",
    "<i>Hello User.!<br></i> Welcome to <b>python-iLOrest-library</b> <br> This is the example to <b>getting bios(basic input/output system) settings about HPE iLO system.</b> <br> As you are here let's get it done easily.<br>\n",
    "    To perform this u need to have <a href = \"https://github.com/HewlettPackard/python-ilorest-library\" style = \"background-color:white\">python-ilorest-library</a> installed in your machine.<br>\n",
    "    And please keep your username and password handy!\n",
    "    <br>\n",
    "    <b>Also do execute each successive cell once to avoid any errors!</b>\n",
    "    \n",
    "</div>"
   ]
  },
  {
   "cell_type": "markdown",
   "metadata": {},
   "source": [
    "<div class = \"alert alert-block alert-success\">\n",
    "    <div style = \"color:green; font-size:40px;\">1.</div>\n",
    "    <br>\n",
    "    In the beginning, we are having some import statements that are actually providing us with the required modules and libraries\n",
    "for proper execution of our code.</div>"
   ]
  },
  {
   "cell_type": "code",
   "execution_count": 7,
   "metadata": {},
   "outputs": [],
   "source": [
    "\n",
    "\"\"\"\n",
    "An example of retrieving bios settings from iLO servers.\n",
    "\"\"\"\n",
    "\n",
    "import sys\n",
    "import json\n",
    "from redfish import RedfishClient\n",
    "from redfish.rest.v1 import ServerDownOrUnreachableError\n",
    "\n",
    "#from get_resource_directory import get_resource_directory\n",
    "\n"
   ]
  },
  {
   "cell_type": "markdown",
   "metadata": {},
   "source": [
    "<div class = \"alert alert-block alert-success\">\n",
    "    <div style = \"color:green; font-size:40px;\">2.</div><br>\n",
    "    Below is the get_bios_settings function, after everything is done this function will give details about bios settings of system.<br>\n",
    "    <i>Let me give you a walk through of it!</i>\n",
    "    <br>\n",
    "    There is a hierarchy involved in iLO Rest Api and everything is in form of <a href = \"https://www.w3schools.com/whatis/whatis_json.asp\" style = \"background-color:powderblue;\">JSON</a> objects i.e. name-value pairs. So we are simply following the hierarchy to navigate to required information.\n",
    "\n",
    "1. In the <b>get_bios_setting</b> function we are first using <b>resource_instances</b> variable to obtain information about the resource directory by using <i>get_resource_directory</i> module.\n",
    "<br>\n",
    "    \n",
    "2. In case the resource directory was disabled we are using systems making a series of http <a href = \"https://developer.mozilla.org/en-US/docs/Web/HTTP/Methods\" style=\"background-color:powderblue;\">GET</a>. requests to the server so as to obtain info about bios settings.\n",
    "    <ul>\n",
    "    <li>The information about bios settings is present inside a particular json object of iLO rest api. </li><li>We just need to navigate to that directory so as to obtain info about bios settings.</li> <li>For that purpose simply we are making series of get requests.</li>\n",
    "        We make a final get operation by at the location <b>bios_uri</b>  and save the response inside <b>bios_data.</b>\n",
    "    </ul>\n",
    "    <br>\n",
    " \n",
    "\n",
    "3. Else if resource directory is enabled then we will simply iterate through all instances inside resources \n",
    "    and if #bios attribute is present in <b>@odata.type</b> attribute then we'll store information about bios settings of the system inside of bios_data variable and break out of iteration.\n",
    "    <br>\n",
    "\n",
    "Ultimately, if bios_data variable is not null we print out information about bios settings. \n",
    "\n",
    " </div>"
   ]
  },
  {
   "cell_type": "code",
   "execution_count": null,
   "metadata": {},
   "outputs": [],
   "source": [
    "def get_bios_setting(_redfishobj):\n",
    "\n",
    "    bios_uri = None\n",
    "    bios_data = None\n",
    "    resource_instances = _redfishobj.get_resource_directory()\n",
    "    if DISABLE_RESOURCE_DIR or not resource_instances:\n",
    "        #if we do not have a resource directory or want to force it's non use to find the\n",
    "        #relevant URI\n",
    "        systems_uri = _redfishobj.root.obj['Systems']['@odata.id']\n",
    "        systems_response = _redfishobj.get(systems_uri)\n",
    "        systems_members_uri = next(iter(systems_response.obj['Members']))['@odata.id']\n",
    "        systems_members_response = _redfishobj.get(systems_members_uri)\n",
    "        bios_uri = systems_members_response.obj['Bios']['@odata.id']\n",
    "        bios_data = _redfishobj.get(bios_uri)\n",
    "    else:\n",
    "        #Use Resource directory to find the relevant URI\n",
    "        for instance in resource_instances:\n",
    "            if '#Bios.' in instance['@odata.type']:\n",
    "                bios_uri = instance['@odata.id']\n",
    "                bios_data = _redfishobj.get(bios_uri)\n",
    "                break\n",
    "\n",
    "    if bios_data:\n",
    "        print(\"\\n\\nShowing bios attributes before changes:\\n\\n\")\n",
    "        print(json.dumps(bios_data.dict, indent=4, sort_keys=True))"
   ]
  },
  {
   "cell_type": "markdown",
   "metadata": {},
   "source": [
    "<div class=\"alert alert-block alert-success\">\n",
    "    <div style = \"color:green; font-size:40px;\">3.</div><br>\n",
    "<b>The Main function: </b> PLEASE ENTER YOU LOGIN CREDENTIALS HERE TO PROCEED FURTHER<br>\n",
    "    <ul>\n",
    "        <li>Once your credentials that are enter everything a redfish obejct is created with the help of RedfishClient class and a session is created and now you will be logged in to the server.</li>\n",
    "        <li>If server is down or Unreachable we get server not reachable message!</li>\n",
    "        <li>If not then we make a call to <b>get_bios_settings function</b> to obtain information about bios settings of system.</li>\n",
    "        <li>After getting required information <i><b>Redfish.logout()</b></i>closses the particular session and logs us out of the system.</li>\n",
    "    </ul>\n",
    "</div>"
   ]
  },
  {
   "cell_type": "code",
   "execution_count": null,
   "metadata": {},
   "outputs": [],
   "source": [
    "if __name__ == \"__main__\":\n",
    "    \n",
    "    SYSTEM_URL = input(\"Enter iLO IP address: \")\n",
    "    LOGIN_ACCOUNT = input(\"Enter Username: \")\n",
    "    LOGIN_PASSWORD = input(\"Enter password: \")\n",
    "\n",
    "    # flag to force disable resource directory. Resource directory and associated operations are\n",
    "    # intended for HPE servers.\n",
    "    DISABLE_RESOURCE_DIR = False\n",
    "\n",
    "    try:\n",
    "        # Create a Redfish client object\n",
    "        REDFISHOBJ = RedfishClient(base_url=SYSTEM_URL, username=LOGIN_ACCOUNT, \\\n",
    "                                                                            password=LOGIN_PASSWORD)\n",
    "        # Login with the Redfish client\n",
    "        REDFISHOBJ.login()\n",
    "    except ServerDownOrUnreachableError as excp:\n",
    "        sys.stderr.write(\"ERROR: server not reachable or does not support RedFish.\\n\")\n",
    "        sys.exit()\n",
    "\n",
    "    get_bios_setting(REDFISHOBJ)\n",
    "    REDFISHOBJ.logout()"
   ]
  },
  {
   "cell_type": "markdown",
   "metadata": {},
   "source": [
    "<div class = \"alert alert-block alert-warning\">\n",
    "    <b>When running on the server locally use the following commented values</b><br>\n",
    " SYSTEM_URL = None<br>\n",
    " LOGIN_ACCOUNT = None<br>\n",
    " LOGIN_PASSWORD = None<br>\n",
    "\n",
    "   <b>When running remotely</b> connect using the secured (https://) address,\n",
    "     account name, and password to send https requests\n",
    "    <br>\n",
    "     SYSTEM_URL acceptable examples:<br>\n",
    "     https://10.0.0.100<br>\n",
    "     https://ilo.hostname\n",
    "</div>"
   ]
  },
  {
   "cell_type": "markdown",
   "metadata": {},
   "source": [
    "<div class = \"alert alert-block alert-success\">In case you need help 🔗 links to relevant resources :\n",
    "    <br>\n",
    "    1.Python-ilorest-library:<a href = \"https://github.com/HewlettPackard/python-ilorest-library\">LINK</a><br>\n",
    "    2.Hpe ilorest-api explorer:<a href = \"https://ilorestfulapiexplorer.ext.hpe.com/\">LINK</a><br>\n",
    "    3.Rest api: <a href = \"https://restfulapi.net/\">LINK</a><br>\n",
    "    \n",
    "</div>"
   ]
  },
  {
   "cell_type": "code",
   "execution_count": null,
   "metadata": {},
   "outputs": [],
   "source": []
  },
  {
   "cell_type": "code",
   "execution_count": null,
   "metadata": {},
   "outputs": [],
   "source": []
  }
 ],
 "metadata": {
  "kernelspec": {
   "display_name": "Python 3 (ipykernel)",
   "language": "python",
   "name": "python3"
  },
  "language_info": {
   "codemirror_mode": {
    "name": "ipython",
    "version": 3
   },
   "file_extension": ".py",
   "mimetype": "text/x-python",
   "name": "python",
   "nbconvert_exporter": "python",
   "pygments_lexer": "ipython3",
   "version": "3.8.6"
  }
 },
 "nbformat": 4,
 "nbformat_minor": 4
}
