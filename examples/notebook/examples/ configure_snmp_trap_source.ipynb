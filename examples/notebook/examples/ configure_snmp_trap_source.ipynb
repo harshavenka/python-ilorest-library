{
 "cells": [
  {
   "cell_type": "markdown",
   "id": "594a0e06",
   "metadata": {},
   "source": [
    "<div class=\"alert alert-block alert-info\" style=\"background-color:\">\n",
    "<i>Hello User.!<br></i> Welcome to <b>python-iLOrest-library</b> <br> This is an example of <b>configuring SNMP trap source for HPE iLO systems.</b> <br> As you are here let's get it done easily.<br>\n",
    "    To perform this u need to have <a href = \"https://github.com/HewlettPackard/python-ilorest-library\" style = \"background-color:white\">python-ilorest-library</a> installed in your machine.<br>\n",
    "    And please keep your username and password handy!\n",
    "    <br>\n",
    "    <b>Also do execute each successive cell once to avoid any errors!</b>\n",
    "    \n",
    "</div>"
   ]
  },
  {
   "cell_type": "markdown",
   "id": "25be0e98",
   "metadata": {},
   "source": [
    " <div class=\"alert alert-block alert-success\">\n",
    "    <h1> 1.</h1>\n",
    "Below we are importing all the necessary modules from the ilorest library!.<br>\n",
    "    <li><a href = \"https://www.tutorialspoint.com/what-is-python-s-sys-module#:~:text=%20What%20is%20Python%27s%20Sys%20Module%20%201,%5B0%5D%20prints%20the...%205%20Output.%20%20More%20\">sys </a>\n",
    "    </li>\n",
    "    <li>json </li>\n",
    "    <li> redfish </li>\n",
    "    \n",
    "</div> "
   ]
  },
  {
   "cell_type": "code",
   "execution_count": null,
   "id": "f16a98ad",
   "metadata": {},
   "outputs": [],
   "source": [
    "import sys\n",
    "import json\n",
    "from redfish import RedfishClient\n",
    "from redfish.rest.v1 import ServerDownOrUnreachableError"
   ]
  },
  {
   "cell_type": "markdown",
   "id": "8c2b4d45",
   "metadata": {},
   "source": [
    "<div class = \"alert alert-block alert-success\"><h2 style=\"font-size:40px\">2.</h2>This is our configure_snmp function overview, in the end this will give us with snmp service related information.<br>\n",
    "    <i>Let me give you a walk through of it!</i>\n",
    "    <br>\n",
    "There is a hierarchy involved in iLO Rest Api. So we are simply following the hierarchy present to obtain the snmp service information.\n",
    "\n",
    " \n",
    "\n",
    "    \n",
    "1. In the ILO rest api the information about snmp is stored inside the <b>managers json object</b>.\n",
    "    Through managers_response variable  we are making a http <a href = \"https://developer.mozilla.org/en-US/docs/Web/HTTP/Methods\" style=\"background-color:powderblue;\">GET operation</a> to and trying to obtain the snmp about iLO system.\n",
    "    <br>\n",
    "\n",
    "2. In the managers response object we are iterating on all the members with different <b>odata_id</b> .\n",
    "    Then again an http GET request is made and response is stored in <b>managers_members_response</b>.\n",
    "    The snmp configuration information is ultimately present in the <b>managers_members_response</b>.\n",
    "    <br>\n",
    "\n",
    "3. Else if resource directory is enabled then we will simply iterate through all instances inside resources \n",
    "    and if power snmp is present in <b>@odata.type</b> attribute then we will store information about snmp in snmp_service_uri and break out of iteration.\n",
    "    <br>\n",
    "\n",
    "Ultimately if snmp_service_uri was obtained without any errors then get the information at the relevant uri and print out that information .\n",
    "\n",
    " </div>"
   ]
  },
  {
   "cell_type": "code",
   "execution_count": null,
   "id": "b53e8e73",
   "metadata": {},
   "outputs": [],
   "source": [
    " def configure_snmp(_redfishobj):\n",
    "\n",
    "    snmp_service_uri = None\n",
    "    managers_uri = _redfishobj.root.obj['Managers']['@odata.id']\n",
    "    managers_response = _redfishobj.get(managers_uri)\n",
    "    managers_members_uri = next(iter(managers_response.obj['Members']))['@odata.id']\n",
    "    managers_members_response = _redfishobj.get(managers_members_uri)\n",
    "    # print(managers_members_response.obj['Oem']['Hpe']['Links'])\n",
    "    # exit(0)\n",
    "    snmp_service_uri = managers_members_response.obj.Oem.Hpe.Links['SNMPService']['@odata.id']\n",
    "\n",
    "    if snmp_service_uri:\n",
    "        # resp = _redfishobj.get(snmp_service_uri)\n",
    "        # print(json.dumps(resp.dict, indent=4, sort_keys=True))\n",
    "        # exit(0)\n",
    "        # TrapSourceHostname : Manager or System\n",
    "        body = {\"TrapSourceHostname\": \"System\"}\n",
    "        resp = _redfishobj.patch(snmp_service_uri, body)\n",
    "\n",
    "        if resp.status == 400:\n",
    "            try:\n",
    "                print(json.dumps(resp.obj['error']['@Message.ExtendedInfo'], indent=4,\n",
    "                                 sort_keys=True))\n",
    "            except Exception as excp:\n",
    "                sys.stderr.write(\"A response error occurred, unable to access iLO Extended \"\n",
    "                                 \"Message Info...\")\n",
    "        elif resp.status != 200:\n",
    "            sys.stderr.write(\"An http response of \\'%s\\' was returned.\\n\" % resp.status)\n",
    "        else:\n",
    "            print(\"Success!\\n\")\n",
    "            # print(json.dumps(resp.dict, indent=4, sort_keys=True))"
   ]
  },
  {
   "cell_type": "markdown",
   "id": "b852d783",
   "metadata": {},
   "source": [
    "<div class=\"alert alert-block alert-success\"><h2 style=\"font-size:40px\">3.</h2>\n",
    "<b>The Main function: </b> PLEASE ENTER YOU LOGIN CREDENTIALS HERE TO PROCEED FURTHER<br>\n",
    "    <ul>\n",
    "        <li>Once your credentials that are enter everything a redfish obejct is created with the help of RedfishClient class and a session is created and now you will be logged in to the server.</li>\n",
    "        <li>If server is down or Unreachable we get server not reachable message!</li>\n",
    "        <li>If not then we make a call to <b>configure_snmp function</b> to obtain snmp related info of system.</li>\n",
    "        <li>After getting required information <i><b>Redfish.logout()</b></i>closses the particular session and logs us out of the system.</li>\n",
    "    </ul>\n",
    "</div>"
   ]
  },
  {
   "cell_type": "code",
   "execution_count": null,
   "id": "610979dd",
   "metadata": {},
   "outputs": [],
   "source": [
    "if __name__ == \"__main__\":\n",
    "\n",
    "    if len(sys.argv) <= 3:\n",
    "        sys.stderr.write(\"ERROR: We need 3 arguments. \\nUsage: change-snmp.py \"\n",
    "                         \"ILOIPADDR ILOUSER ILOPASSWORD \\n\")\n",
    "        sys.exit()\n",
    "\n",
    "    SYSTEM_URL = \"https://\" + sys.argv[1]\n",
    "    LOGIN_ACCOUNT = sys.argv[2]\n",
    "    LOGIN_PASSWORD = sys.argv[3]\n",
    "\n",
    "    try:\n",
    "        REDFISHOBJ = RedfishClient(base_url=SYSTEM_URL, username=LOGIN_ACCOUNT,\n",
    "                                   password=LOGIN_PASSWORD)\n",
    "        REDFISHOBJ.login()\n",
    "    except ServerDownOrUnreachableError as excp:\n",
    "        sys.stderr.write(\"ERROR: server not reachable or does not support RedFish.\\n\")\n",
    "        sys.exit()\n",
    "\n",
    "    configure_snmp(REDFISHOBJ)\n",
    "    REDFISHOBJ.logout()"
   ]
  },
  {
   "cell_type": "markdown",
   "id": "80f7da07",
   "metadata": {},
   "source": [
    "<div class = \"alert alert-block alert-warning\"><h2 style=\"font-size:40px\">4.</h2>\n",
    "    <b>When running on the server locally use the following commented values</b><br>\n",
    " SYSTEM_URL = None<br>\n",
    " LOGIN_ACCOUNT = None<br>\n",
    " LOGIN_PASSWORD = None<br>\n",
    "\n",
    "   <b>When running remotely</b> connect using the secured (https://) address,\n",
    "     account name, and password to send https requests\n",
    "    <br>\n",
    "     SYSTEM_URL acceptable examples:<br>\n",
    "     https://10.0.0.100<br>\n",
    "     https://ilo.hostname\n",
    "</div>"
   ]
  },
  {
   "cell_type": "markdown",
   "id": "00b5c8a5",
   "metadata": {},
   "source": [
    "<div class = \"alert alert-block alert-success\"><h2 style=\"font-size:40px\">5.</h2>In case you need help 🔗 links to relevant resources :\n",
    "    <br>\n",
    "    1.Python-ilorest-library:<a href = \"https://github.com/HewlettPackard/python-ilorest-library\">LINK</a><br>\n",
    "    2.Hpe ilorest-api explorer:<a href = \"https://ilorestfulapiexplorer.ext.hpe.com/\">LINK</a><br>\n",
    "    3.Rest api: <a href = \"https://restfulapi.net/\">LINK</a><br>\n",
    "    \n",
    "</div>"
   ]
  }
 ],
 "metadata": {
  "kernelspec": {
   "display_name": "Python 3",
   "language": "python",
   "name": "python3"
  },
  "language_info": {
   "codemirror_mode": {
    "name": "ipython",
    "version": 3
   },
   "file_extension": ".py",
   "mimetype": "text/x-python",
   "name": "python",
   "nbconvert_exporter": "python",
   "pygments_lexer": "ipython3",
   "version": "3.8.8"
  }
 },
 "nbformat": 4,
 "nbformat_minor": 5
}
