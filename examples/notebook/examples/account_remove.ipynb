{
 "cells": [
  {
   "cell_type": "markdown",
   "metadata": {},
   "source": [
    "# Remove iLO  User Account"
   ]
  },
  {
   "cell_type": "markdown",
   "metadata": {},
   "source": [
    "<div class=\"alert alert-block alert-info\">\n",
    "<i>Hello User.!<br></i> Welcome to <b>python-iLOrest-library</b> <br> This is the example to <b>a particular user account on HPE iLO system.</b> <br> As you are here let's get it done easily.<br>\n",
    "    To perform this u need to have <a href = \"https://github.com/HewlettPackard/python-ilorest-library\" style = \"background-color:white\">python-ilorest-library</a> installed in your machine.<br>\n",
    "    And please keep your username and password handy!\n",
    "    <br>\n",
    "    <b>Also do execute each successive cell once to avoid any errors!</b>\n",
    "    \n",
    "</div>"
   ]
  },
  {
   "cell_type": "markdown",
   "metadata": {},
   "source": [
    " <div class = \"alert alert-block alert-success\">\n",
    "    <div style = \"color:green; font-size:40px;\">1.</div>\n",
    "    <br>\n",
    "    <div style = \"font-size:14px\">In the beginning, we are having some import statements that are actually providing us with the required modules and libraries.\n",
    "        for proper execution of our code.</div>\n",
    "    </div>"
   ]
  },
  {
   "cell_type": "code",
   "execution_count": null,
   "metadata": {},
   "outputs": [],
   "source": [
    "\n",
    "\"\"\"\n",
    "An example of removing a user account from the HPE iLO systems\n",
    "\"\"\"\n",
    "\n",
    "import sys\n",
    "import json\n",
    "from redfish import RedfishClient\n",
    "from redfish.rest.v1 import ServerDownOrUnreachableError\n",
    "\n",
    "from get_resource_directory import get_resource_directory\n",
    "\n"
   ]
  },
  {
   "cell_type": "markdown",
   "metadata": {},
   "source": [
    "<div class = \"alert alert-block alert-success\">\n",
    "    <div style = \"color:green; font-size:40px;\">2.</div>\n",
    "    <br>\n",
    " Below is the remove_ilo_user_account function, after sucessful execution of this function we will be able to delete the information of any user account that is present on the HPE iLO system.\n",
    "    \n",
    "<br>\n",
    "<i>Let me give you a walk through of it!</i>\n",
    "<br>\n",
    "    \n",
    "For removal of any general account from the system we will first have to search for the accounts that we wan't to delete based on any attribute or property that uniquely identifies the account. Upon finding that account we can just make http delete request and we are done!\n",
    "    \n",
    "1. In the <b>remove_ilo_user_account</b> function we are first using <b>resource_instances</b> variable to obtain information about the resource directory by using <i>get_resource_directory</i> module.\n",
    "<br>\n",
    "    \n",
    "2. <b>In case the resource directory was disabled</b> we are navigating to the actual location where the all the member account information is stored by using  <a href = \"https://restfulapi.net/http-methods/#delete\" style=\"background-color:powderblue;\">DELETE</a>request.\n",
    " \n",
    "\n",
    "3. Else if resource directory is enabled then we will simply iterate through all instances inside resources to obtain the <b>account_collection_uri.</b>\n",
    "    <br>\n",
    "4. <ul>\n",
    "    <li>Now we are having the location at which all the member accounts are present. </li><li>Simply we just find out what user account matches the account that has to be deleted based on username of the accounts.</li><li> If we do not find the required account after completion of iteration we print out a message that required acccount was not found on the server side.</li>\n",
    "    <li>After this we simply make a DELETE request to delete that particular account and save the response obtained in resp variable.</li></ul> If the http status code returned was 200, then we simply print a message that delete operation was success.<br>\n",
    "    Else if the status code returned was anything else we print out the status code with an error message to get idea about what went wrong.\n",
    "\n",
    "\n",
    " </div>"
   ]
  },
  {
   "cell_type": "code",
   "execution_count": 7,
   "metadata": {},
   "outputs": [],
   "source": [
    "def remove_ilo_user_account(_redfishobj, username_to_delete):\n",
    "\n",
    "    resource_instances = get_resource_directory(_redfishobj)\n",
    "\n",
    "    if DISABLE_RESOURCE_DIR or not resource_instances:\n",
    "        #resource directory is not available so we will navigate through paths manually to obtain\n",
    "        #account info\n",
    "        account_service_uri = _redfishobj.root.obj['AccountService']['@odata.id']\n",
    "        account_service_response = _redfishobj.get(account_service_uri)\n",
    "        account_collection_uri = account_service_response.obj['Accounts']['@odata.id']\n",
    "    else:\n",
    "        #obtain all account instances from resource directory\n",
    "        for instance in resource_instances:\n",
    "            if '#ManagerAccountCollection.' in instance['@odata.type']:\n",
    "                account_collection_uri = instance['@odata.id']\n",
    "                break\n",
    "\n",
    "    #find the account to delete\n",
    "    account_uri_to_delete = None\n",
    "    account_uris = _redfishobj.get(account_collection_uri)\n",
    "    for account_uri in account_uris.dict['Members']:\n",
    "        account = _redfishobj.get(account_uri['@odata.id'])\n",
    "        if account.dict['UserName'] == username_to_delete:\n",
    "            account_uri_to_delete = account_uri['@odata.id']\n",
    "            break\n",
    "\n",
    "    if not account_uri_to_delete:\n",
    "        sys.stderr.write(\"Cannot find account to modify\")\n",
    "        return\n",
    "\n",
    "    resp = _redfishobj.delete(account_uri_to_delete)\n",
    "\n",
    "    if resp.status == 400:\n",
    "        try:\n",
    "            print(json.dumps(resp.obj['error']['@Message.ExtendedInfo'], indent=4, sort_keys=True))\n",
    "        except Exception as excp:\n",
    "            sys.stderr.write(\"A response error occurred, unable to access iLO Extended Message \"\\\n",
    "                             \"Info...\")\n",
    "    elif resp.status != 200:\n",
    "        sys.stderr.write(\"An http response of \\'%s\\' was returned.\\n\" % resp.status)\n",
    "    else:\n",
    "        print(\"Success!\\n\")\n",
    "        print(json.dumps(resp.dict, indent=4, sort_keys=True))\n"
   ]
  },
  {
   "cell_type": "markdown",
   "metadata": {},
   "source": [
    "<div class=\"alert alert-block alert-success\">\n",
    "    <div style = \"color:green; font-size:40px;\">3.</div>\n",
    "    <br>\n",
    "<b>The Main function: </b> PLEASE ENTER YOU LOGIN CREDENTIALS HERE TO PROCEED FURTHER<br>\n",
    "    <ul>\n",
    "        <li>Once your credentials that are enter everything a redfish obejct is created with the help of RedfishClient class and a session is created and now you will be logged in to the server.</li>\n",
    "        <li>The <b>ACCOUNT_TO_DELETE</b> contains the username of the account that we need to delete. We are passing the same as an argument while making a call to remove_ilo_user_account function.</li>\n",
    "        <li>If server is down or Unreachable we get server not reachable message!</li>\n",
    "        <li>If not then we make a call to <b>remove_ilo_user_account function</b> .</li>\n",
    "        <li>After getting required information <i><b>Redfish.logout()</b></i>closses the particular session and logs us out of the system.</li>\n",
    "    </ul>\n",
    "</div>"
   ]
  },
  {
   "cell_type": "code",
   "execution_count": null,
   "metadata": {},
   "outputs": [],
   "source": [
    "if __name__ == \"__main__\":\n",
    "    \n",
    "    SYSTEM_URL = input(\"Enter System URL: \")\n",
    "    LOGIN_ACCOUNT = input(\"Enter Name: \")\n",
    "    LOGIN_PASSWORD = input(\"Enter password: \")\n",
    "    \n",
    "    \n",
    "    # The username of the account to remove\n",
    "    ACCOUNT_TO_DELETE = \"joker\"\n",
    "\n",
    "    # flag to force disable resource directory. Resource directory and associated operations are\n",
    "    # intended for HPE servers.\n",
    "    DISABLE_RESOURCE_DIR = False\n",
    "\n",
    "    try:\n",
    "        # Create a Redfish client object\n",
    "        REDFISHOBJ = RedfishClient(base_url=SYSTEM_URL, username=LOGIN_ACCOUNT, \\\n",
    "                                                                            password=LOGIN_PASSWORD)\n",
    "        # Login with the Redfish client\n",
    "        REDFISHOBJ.login()\n",
    "    except ServerDownOrUnreachableError as excp:\n",
    "        sys.stderr.write(\"ERROR: server not reachable or does not support RedFish.\\n\")\n",
    "        sys.exit()\n",
    "\n",
    "    remove_ilo_user_account(REDFISHOBJ, ACCOUNT_TO_DELETE)\n",
    "\n",
    "    REDFISHOBJ.logout()\n"
   ]
  },
  {
   "cell_type": "markdown",
   "metadata": {},
   "source": [
    "<div class = \"alert alert-block alert-warning\">\n",
    "    <b>When running on the server locally use the following commented values</b><br>\n",
    " SYSTEM_URL = None<br>\n",
    " LOGIN_ACCOUNT = None<br>\n",
    " LOGIN_PASSWORD = None<br>\n",
    "\n",
    "   <b>When running remotely</b> connect using the secured (https://) address,\n",
    "     account name, and password to send https requests\n",
    "    <br>\n",
    "     SYSTEM_URL acceptable examples:<br>\n",
    "     https://10.0.0.100<br>\n",
    "     https://ilo.hostname\n",
    "</div>"
   ]
  },
  {
   "cell_type": "markdown",
   "metadata": {},
   "source": [
    "<div class = \"alert alert-block alert-success\">In case you need help 🔗 links to relevant resources :\n",
    "    <br>\n",
    "    1.Python-ilorest-library:<a href = \"https://github.com/HewlettPackard/python-ilorest-library\">LINK</a><br>\n",
    "    2.Hpe ilorest-api explorer:<a href = \"https://ilorestfulapiexplorer.ext.hpe.com/\">LINK</a><br>\n",
    "    3.Rest api: <a href = \"https://restfulapi.net/\">LINK</a><br>\n",
    "    \n",
    "</div>"
   ]
  }
 ],
 "metadata": {
  "kernelspec": {
   "display_name": "Python 3 (ipykernel)",
   "language": "python",
   "name": "python3"
  },
  "language_info": {
   "codemirror_mode": {
    "name": "ipython",
    "version": 3
   },
   "file_extension": ".py",
   "mimetype": "text/x-python",
   "name": "python",
   "nbconvert_exporter": "python",
   "pygments_lexer": "ipython3",
   "version": "3.8.6"
  }
 },
 "nbformat": 4,
 "nbformat_minor": 4
}
