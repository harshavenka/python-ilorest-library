{
 "cells": [
  {
   "cell_type": "markdown",
   "id": "3dfca749-3331-47de-9d47-c705fdbfd813",
   "metadata": {
    "tags": []
   },
   "source": [
    "# Finding iLo Mac address"
   ]
  },
  {
   "cell_type": "markdown",
   "id": "ac00ccdd-3ac6-49f0-87eb-4f9c9dc185a2",
   "metadata": {},
   "source": [
    "<div class=\"alert alert-block alert-info\">\n",
    "<i>Hello there.!<br></i> Welcome to <b>python-iLOrest-library</b> <br> Here is an example to <b>find_ilo_mac_address!!!</b> <br> As you are here let's get it done easily.<br>\n",
    "    To perform this u need to have <a href = \"https://libraries.io/pypi/python-ilorest-library#id3\" style = \"none\">python-ilorest-library</a> installed in your machine.<br>\n",
    "    And please keep your username and password handy!\n",
    "    <br>\n",
    "    <b>Also do execute each successive cell once to avoid any errors!</b>\n",
    "    \n",
    "</div>"
   ]
  },
  {
   "cell_type": "markdown",
   "id": "3a347c8c-d1fb-4ccf-94aa-73d7d0f42199",
   "metadata": {},
   "source": [
    "<div class=\"alert alert-block alert-success\">\n",
    "    <h1> 1.</h1>\n",
    "Below we are importing all the necessary modules from the ilorest library!.<br>\n",
    "    <li><a href = \"https://www.tutorialspoint.com/what-is-python-s-sys-module#:~:text=%20What%20is%20Python%27s%20Sys%20Module%20%201,%5B0%5D%20prints%20the...%205%20Output.%20%20More%20\">sys </a>\n",
    "    </li>\n",
    "    <li>json </li>\n",
    "    <li> redfish </li>\n",
    "    \n",
    "</div>"
   ]
  },
  {
   "cell_type": "code",
   "execution_count": null,
   "id": "7873d333-4738-4dfc-8cf3-8e424eafaa48",
   "metadata": {},
   "outputs": [],
   "source": [
    "import sys\n",
    "import json\n",
    "import getpass\n",
    "from redfish import RedfishClient\n",
    "from redfish.rest.v1 import ServerDownOrUnreachableError\n",
    "\n",
    "#from get_resource_directory import get_resource_directory\n"
   ]
  },
  {
   "cell_type": "markdown",
   "id": "d83f828e-a91e-4efc-b70f-e14a01b3cd44",
   "metadata": {},
   "source": [
    "<div class=\"alert alert-block alert-success\">\n",
    "    <p>This is our find_ilo_mac_address function overview, in the end this will give us about finding ilo mac address related information.</p>\n",
    "    <p>Let me give you a walk through of it!</p>\n",
    "    <ol>\n",
    "    <li> For the identification of a device, its mac address is very much required. If you have the Systems Management Homepage installed, you can find out by clicking \"Management Processor\" and then check the Physical Address field.</li>\n",
    "    <li> If we don't have a resource directory, information about the ethernet data is stored inside the managers json object. Through managers_response variable we are making a http <a href = \"https://developer.mozilla.org/en-US/docs/Web/HTTP/Methods\">GET operation</a> to and trying to obtain the virtual media about iLO system.</li>\n",
    "        <li> Ethernet interface gives the response for that member about the <b>ilo mac address</b></li>\n",
    "        <li> If the resource directory is present, then we will simply iterate through all instances inside resources and if the ethernet interface is present in <b>@odata.type</b> attribute then we will store information about ethernet interface in <b>ethernet_data</b> dictionary and break out of iteration.</li>\n",
    "        <li> Finally, we get <b>iLo Network Manager Interface</b> and <b>iLO Mac Address</b> as output.</li>\n",
    "    </ol>\n",
    "</div>"
   ]
  },
  {
   "cell_type": "code",
   "execution_count": null,
   "id": "3e307a7c-e9e0-4033-a9be-374e7ade9e0a",
   "metadata": {},
   "outputs": [],
   "source": [
    "def find_ilo_mac_address(_redfishobj):\n",
    "\n",
    "    ethernet_data = {}\n",
    "\n",
    "    resource_instances = _redfishobj.get_resource_directory()\"\n",
    "    if DISABLE_RESOURCE_DIR or not resource_instances:\n",
    "        #if we do not have a resource directory or want to force it's non use to find the\n",
    "        #relevant URI\n",
    "        managers_uri = _redfishobj.root.obj['Managers']['@odata.id']\n",
    "        managers_response = _redfishobj.get(managers_uri)\n",
    "        managers_members_uri = next(iter(managers_response.obj['Members']))['@odata.id']\n",
    "        managers_members_response = _redfishobj.get(managers_members_uri)\n",
    "        manager_ethernet_interfaces = managers_members_response.obj['EthernetInterfaces']\\\n",
    "                                                                                    ['@odata.id']\n",
    "        manager_ethernet_interfaces_response = _redfishobj.get(manager_ethernet_interfaces)\n",
    "        manager_ethernet_interfaces_members = manager_ethernet_interfaces_response.\\\n",
    "                                                            obj['Members']\n",
    "        for _member in manager_ethernet_interfaces_members:\n",
    "            _tmp = _redfishobj.get(_member['@odata.id']).obj\n",
    "            ethernet_data[_member['@odata.id']] = _tmp\n",
    "    else:\n",
    "        #Use Resource directory to find the relevant URI\n",
    "        for instance in resource_instances:\n",
    "            if '#EthernetInterfaceCollection.' in instance['@odata.type'] and 'Managers' in \\\n",
    "                                                                        instance['@odata.id']:\n",
    "                ethernet_uri = instance['@odata.id']\n",
    "                ethernet_interfaces = _redfishobj.get(ethernet_uri).obj['Members']\n",
    "                for _ethernet_interface in ethernet_interfaces:\n",
    "                    ethernet_data[_ethernet_interface['@odata.id']] = _redfishobj.\\\n",
    "                                                        get(_ethernet_interface['@odata.id']).dict\n",
    "    for iface in ethernet_data:\n",
    "        sys.stdout.write(\"iLO Network Manager Interface: \\'%s\\'\\n\" % ethernet_data[iface]['Id'])\n",
    "        sys.stdout.write(\"\\tiLO Mac Address: \\'%s\\'\\n\" % ethernet_data[iface].get('MACAddress'))\n"
   ]
  },
  {
   "cell_type": "markdown",
   "id": "d4e940e6-887e-4e35-8f77-bc331ade4485",
   "metadata": {},
   "source": [
    "<div class=\"alert alert-block alert-success\">\n",
    "<b> <h1> 3.</h1>The Main function: </b> PLEASE ENTER YOU LOGIN CREDENTIALS HERE.<br>\n",
    "    <ul>\n",
    "        <li>Once you enter everything a redfish obejct is created with the help of RedfishClient class and a session is created and now you will  be logged in to the server</li>\n",
    "        <li>If server is down or Unreachable we get \"server not reachable\" message!</li>\n",
    "        <li>and Once everything is done you are automatically logged out with <b>.logout()<b> 😁. </li>\n",
    "    </ul>\n",
    "</div>"
   ]
  },
  {
   "cell_type": "code",
   "execution_count": null,
   "id": "6398fb6f-5672-4075-bf73-8af549f172de",
   "metadata": {},
   "outputs": [],
   "source": [
    "if __name__ == \"__main__\":\n",
    "    # When running on the server locally use the following commented values\n",
    "    #SYSTEM_URL = None\n",
    "    #LOGIN_ACCOUNT = None\n",
    "    #LOGIN_PASSWORD = None\n",
    "\n",
    "    # When running remotely connect using the secured (https://) address,\n",
    "    # account name, and password to send https requests\n",
    "    # SYSTEM_URL acceptable examples:\n",
    "    # \"https://10.0.0.100\"\n",
    "    # \"https://ilo.hostname\"\n",
    "    SYSTEM_URL = input(\"Enter iLO IP address: \")\n",
    "    LOGIN_ACCOUNT = input(\"Enter Username: \")\n",
    "    LOGIN_PASSWORD = getpass.getpass(\"Enter password: \")\n",
    "\n",
    "    # flag to force disable resource directory. Resource directory and associated operations are\n",
    "    # intended for HPE servers.\n",
    "    DISABLE_RESOURCE_DIR = False\n",
    "\n",
    "    try:\n",
    "        # Create a Redfish client object\n",
    "        REDFISHOBJ = RedfishClient(base_url=SYSTEM_URL, username=LOGIN_ACCOUNT, \\\n",
    "                                                                            password=LOGIN_PASSWORD)\n",
    "        # Login with the Redfish client\n",
    "        REDFISHOBJ.login()\n",
    "    except ServerDownOrUnreachableError as excp:\n",
    "        sys.stderr.write(\"ERROR: server not reachable or does not support RedFish.\\n\")\n",
    "        sys.exit()\n",
    "\n",
    "    find_ilo_mac_address(REDFISHOBJ)\n",
    "    REDFISHOBJ.logout()"
   ]
  },
  {
   "cell_type": "markdown",
   "id": "615ad0b4-156f-478d-b6cb-8a12ad7117c3",
   "metadata": {},
   "source": [
    "<div class=\"alert alert-block alert-warning\">\n",
    "<b> When running on the server locally : </b>  use the following values <br>\n",
    "    SYSTEM_URL = None <br>\n",
    "    LOGIN_ACCOUNT = None <br>\n",
    "    LOGIN_PASSWORD = None <br>\n",
    "    <b> When running remotely </b> connect using the secured (https://) address,account name, and password to send https requests <br>\n",
    "    SYSTEM_URL acceptable examples: <br>\n",
    "    \"https://10.0.0.100\" <br>\n",
    "    \"https://ilo.hostname\"\n",
    "</div>"
   ]
  },
  {
   "cell_type": "markdown",
   "id": "8bd8051b-cc81-4dca-8b8f-c86202b35880",
   "metadata": {},
   "source": [
    "<div class=\"alert alert-block alert-success\">\n",
    "    In case you need help 🔗 links to relevant resources :<br>\n",
    "    1.Python-ilorest-library:<a href = \"https://github.com/HewlettPackard/python-ilorest-library\">LINK</a><br>\n",
    "    2.Hpe ilorest-api explorer:<a href = \"https://ilorestfulapiexplorer.ext.hpe.com/\">LINK</a><br>\n",
    "    3.Rest api: <a href = \"https://restfulapi.net/\">LINK</a><br>\n",
    "</div>"
   ]
  }
 ],
 "metadata": {
  "kernelspec": {
   "display_name": "Python 3 (ipykernel)",
   "language": "python",
   "name": "python3"
  },
  "language_info": {
   "codemirror_mode": {
    "name": "ipython",
    "version": 3
   },
   "file_extension": ".py",
   "mimetype": "text/x-python",
   "name": "python",
   "nbconvert_exporter": "python",
   "pygments_lexer": "ipython3",
   "version": "3.9.12"
  }
 },
 "nbformat": 4,
 "nbformat_minor": 5
}
