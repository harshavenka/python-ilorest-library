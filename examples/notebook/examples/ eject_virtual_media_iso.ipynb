{
 "cells": [
  {
   "cell_type": "markdown",
   "id": "45dd47a5",
   "metadata": {},
   "source": [
    "<div class=\"alert alert-block alert-info\" style=\"background-color:\">\n",
    "<i>Hello User.!<br></i> Welcome to <b>python-iLOrest-library</b> <br> This is an example of <b>mounting virtual media for HPE iLO systems</b> <br> As you are here let's get it done easily.<br>\n",
    "    To perform this u need to have <a href = \"https://github.com/HewlettPackard/python-ilorest-library\" style = \"background-color:white\">python-ilorest-library</a> installed in your machine.<br>\n",
    "    And please keep your username and password handy!\n",
    "    <br>\n",
    "    <b>Also do execute each successive cell once to avoid any errors!</b>\n",
    "    \n",
    "</div>"
   ]
  },
  {
   "cell_type": "markdown",
   "id": "23eeb2bf",
   "metadata": {},
   "source": [
    "<div class=\"alert alert-block alert-success\">\n",
    "    <h1> 1.</h1>\n",
    "Below we are importing all the necessary modules from the ilorest library!.<br>\n",
    "    <li><a href = \"https://www.tutorialspoint.com/what-is-python-s-sys-module#:~:text=%20What%20is%20Python%27s%20Sys%20Module%20%201,%5B0%5D%20prints%20the...%205%20Output.%20%20More%20\">sys </a>\n",
    "    </li>\n",
    "    <li>json </li>\n",
    "    <li> redfish </li>\n",
    "    \n",
    "</div>"
   ]
  },
  {
   "cell_type": "code",
   "execution_count": null,
   "id": "92ec68a2",
   "metadata": {},
   "outputs": [],
   "source": [
    "import sys\n",
    "import json\n",
    "from redfish import RedfishClient\n",
    "from redfish.rest.v1 import ServerDownOrUnreachableError\n",
    "\n",
    "from get_resource_directory import get_resource_directory"
   ]
  },
  {
   "cell_type": "markdown",
   "id": "10a8e977",
   "metadata": {},
   "source": [
    "<div class = \"alert alert-block alert-success\"><h2 style=\"font-size:40px\">2.</h2>This is our mount_virtual_media_iso function overview, in the end this will give us with virtual media related information.<br>\n",
    "    <i>Let me give you a walk through of it!</i>\n",
    "    <br>\n",
    "There is a hierarchy involved in iLO Rest Api. So we are simply following the hierarchy present to obtain the virtual media information.\n",
    "\n",
    "1. In the <b>mount_virtual_media_iso</b> function we are first using <b>resource_instances</b> variable to obtain information about the resource directory by using get_resource_directory module.\n",
    "<br>\n",
    "    \n",
    "2. In the ILO rest api the information about virtual media is stored inside the <b>managers json object</b>.\n",
    "    Through managers_response variable  we are making a http <a href = \"https://developer.mozilla.org/en-US/docs/Web/HTTP/Methods\" style=\"background-color:powderblue;\">GET operation</a> to and trying to obtain the virtual media about iLO system.\n",
    "    <br>\n",
    "\n",
    "3. In the managers response object we are iterating on all the members with different <b>odata_id</b> .\n",
    "    Then again an http GET request is made and response is stored in <b>managers_members_response</b>.\n",
    "    The virtual media information is ultimately present in the <b>managers_members_response</b>.\n",
    "    <br>\n",
    "\n",
    "4. Else if resource directory is enabled then we will simply iterate through all instances inside resources \n",
    "    and if virtual media is present in <b>@odata.type</b> attribute then we will store information about virtual media in virtual_media_uri and break out of iteration.\n",
    "    <br>\n",
    "\n",
    "Ultimately if virtual_media_uri was obtained without any errors then get the information at the relevant uri and print out that information .\n",
    "\n",
    " </div>"
   ]
  },
  {
   "cell_type": "code",
   "execution_count": null,
   "id": "f034ef9c",
   "metadata": {},
   "outputs": [],
   "source": [
    "def mount_virtual_media_iso(_redfishobj, media_type,):\n",
    "\n",
    "    virtual_media_uri = None\n",
    "    virtual_media_response = []\n",
    "\n",
    "    resource_instances = get_resource_directory(_redfishobj)\n",
    "    if DISABLE_RESOURCE_DIR or not resource_instances:\n",
    "        #if we do not have a resource directory or want to force it's non use to find the\n",
    "        #relevant URI\n",
    "        managers_uri = _redfishobj.root.obj['Managers']['@odata.id']\n",
    "        managers_response = _redfishobj.get(managers_uri)\n",
    "        managers_members_uri = next(iter(managers_response.obj['Members']))['@odata.id']\n",
    "        managers_members_response = _redfishobj.get(managers_members_uri)\n",
    "        virtual_media_uri = managers_members_response.obj['VirtualMedia']['@odata.id']\n",
    "    else:\n",
    "        for instance in resource_instances:\n",
    "            #Use Resource directory to find the relevant URI\n",
    "            if '#VirtualMediaCollection.' in instance['@odata.type']:\n",
    "                virtual_media_uri = instance['@odata.id']\n",
    "\n",
    "    if virtual_media_uri:\n",
    "        virtual_media_response = _redfishobj.get(virtual_media_uri)\n",
    "        for virtual_media_slot in virtual_media_response.obj['Members']:\n",
    "            data = _redfishobj.get(virtual_media_slot['@odata.id'])\n",
    "            if media_type in data.dict['MediaTypes']:\n",
    "                virtual_media_mount_uri = data.obj['Actions']['#VirtualMedia.EjectMedia']['target']\n",
    "                post_body = {\"Action\": \"HpeiLOVirtualMedia.EjectVirtualMedia\"}\n",
    "                resp = _redfishobj.post(virtual_media_mount_uri, post_body)\n",
    "                if resp.status == 400:\n",
    "                    try:\n",
    "                        print(json.dumps(resp.obj['error']['@Message.ExtendedInfo'], indent=4, \\\n",
    "                                         sort_keys=True))\n",
    "                    except Exception as excp:\n",
    "                        sys.stderr.write(\"A response error occurred, unable to access iLO\"\n",
    "                                         \"Extended Message Info...\")\n",
    "                elif resp.status != 200:\n",
    "                    sys.stderr.write(\"An http response of \\'%s\\' was returned.\\n\" % resp.status)\n",
    "                else:\n",
    "                    print(\"Success!\\n\")\n",
    "                    print(json.dumps(resp.dict, indent=4, sort_keys=True))\n",
    "                break"
   ]
  },
  {
   "cell_type": "markdown",
   "id": "268b5a18",
   "metadata": {},
   "source": [
    "<div class=\"alert alert-block alert-success\"><h2 style=\"font-size:40px\">3.</h2>\n",
    "<b>The Main function: </b> PLEASE ENTER YOU LOGIN CREDENTIALS HERE TO PROCEED FURTHER<br>\n",
    "    <ul>\n",
    "        <li>Once your credentials that are enter everything a redfish obejct is created with the help of RedfishClient class and a session is created and now you will be logged in to the server.</li>\n",
    "        <li>If server is down or Unreachable we get server not reachable message!</li>\n",
    "        <li>If not then we make a call to <b>mount_virtual_media_iso</b> to obtain virtual media related info of system.</li>\n",
    "        <li>After getting required information <i><b>Redfish.logout()</b></i> closses the particular session and logs us out of the system.</li>\n",
    "    </ul>\n",
    "</div>"
   ]
  },
  {
   "cell_type": "code",
   "execution_count": null,
   "id": "ab494baf",
   "metadata": {},
   "outputs": [],
   "source": [
    "if __name__ == \"__main__\":\n",
    "    # When running on the server locally use the following commented values\n",
    "    #SYSTEM_URL = None\n",
    "    #LOGIN_ACCOUNT = None\n",
    "    #LOGIN_PASSWORD = None\n",
    "\n",
    "    # When running remotely connect using the secured (https://) address,\n",
    "    # account name, and password to send https requests\n",
    "    # SYSTEM_URL acceptable examples:\n",
    "    # \"https://10.0.0.100\"\n",
    "    # \"https://ilo.hostname\"\n",
    "    SYSTEM_URL = \"https://10.0.0.100\"\n",
    "    LOGIN_ACCOUNT = \"admin\"\n",
    "    LOGIN_PASSWORD = \"password\"\n",
    "\n",
    "    #specify the type of content the media represents\n",
    "    MEDIA_TYPE = \"CD\" #current possible options: Floppy, USBStick, CD, DVD\n",
    "\n",
    "    # flag to force disable resource directory. Resource directory and associated operations are\n",
    "    # intended for HPE servers.\n",
    "    DISABLE_RESOURCE_DIR = False\n",
    "\n",
    "    try:\n",
    "        # Create a Redfish client object\n",
    "        REDFISHOBJ = RedfishClient(base_url=SYSTEM_URL, username=LOGIN_ACCOUNT, \\\n",
    "                                   password=LOGIN_PASSWORD)\n",
    "\n",
    "        # Login with the Redfish client\n",
    "        REDFISHOBJ.login()\n",
    "    except ServerDownOrUnreachableError as excp:\n",
    "        sys.stderr.write(\"ERROR: server not reachable or does not support RedFish.\\n\")\n",
    "        sys.exit()\n",
    "\n",
    "    mount_virtual_media_iso(REDFISHOBJ, MEDIA_TYPE)\n",
    "    REDFISHOBJ.logout()"
   ]
  },
  {
   "cell_type": "markdown",
   "id": "90621a8a",
   "metadata": {},
   "source": [
    "<div class = \"alert alert-block alert-warning\"><h2 style=\"font-size:40px\">4.</h2>\n",
    "    <b>When running on the server locally use the following commented values</b><br>\n",
    " SYSTEM_URL = None<br>\n",
    " LOGIN_ACCOUNT = None<br>\n",
    " LOGIN_PASSWORD = None<br>\n",
    "\n",
    "   <b>When running remotely</b> connect using the secured (https://) address,\n",
    "     account name, and password to send https requests\n",
    "    <br>\n",
    "     SYSTEM_URL acceptable examples:<br>\n",
    "     https://10.0.0.100<br>\n",
    "     https://ilo.hostname\n",
    "</div>"
   ]
  },
  {
   "cell_type": "markdown",
   "id": "a839daaa",
   "metadata": {},
   "source": [
    "<div class = \"alert alert-block alert-success\"><h2 style=\"font-size:40px\">5.</h2>In case you need help 🔗 links to relevant resources :\n",
    "    <br>\n",
    "    1.Python-ilorest-library:<a href = \"https://github.com/HewlettPackard/python-ilorest-library\">LINK</a><br>\n",
    "    2.Hpe ilorest-api explorer:<a href = \"https://ilorestfulapiexplorer.ext.hpe.com/\">LINK</a><br>\n",
    "    3.Rest api: <a href = \"https://restfulapi.net/\">LINK</a><br>\n",
    "    \n",
    "</div>"
   ]
  }
 ],
 "metadata": {
  "kernelspec": {
   "display_name": "Python 3",
   "language": "python",
   "name": "python3"
  },
  "language_info": {
   "codemirror_mode": {
    "name": "ipython",
    "version": 3
   },
   "file_extension": ".py",
   "mimetype": "text/x-python",
   "name": "python",
   "nbconvert_exporter": "python",
   "pygments_lexer": "ipython3",
   "version": "3.8.8"
  }
 },
 "nbformat": 4,
 "nbformat_minor": 5
}
