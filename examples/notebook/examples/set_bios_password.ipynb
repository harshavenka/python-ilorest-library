{
 "cells": [
  {
   "cell_type": "markdown",
   "id": "d357d38b",
   "metadata": {
    "tags": []
   },
   "source": [
    "# Setting Bios Password"
   ]
  },
  {
   "cell_type": "markdown",
   "id": "fce7e904",
   "metadata": {},
   "source": [
    "<div class=\"alert alert-block alert-info\">\n",
    "<i>Hello there.!<br></i> Welcome to <b>python-iLOrest-library</b> <br> Here is an example to <b>change bios password for HPE iLO system!!</b> <br> As you are here let's get it done easily.<br>\n",
    "    To perform this u need to have <a href = \"#\" style = \"none\">python-ilorest-library</a> installed in your machine.<br>\n",
    "    And please keep your username and password handy!\n",
    "    Also do run each succesive cell of code \n",
    "    \n",
    "</div>"
   ]
  },
  {
   "cell_type": "markdown",
   "id": "a89aa82f",
   "metadata": {},
   "source": [
    "<div class = \"alert alert-block alert-success\">\n",
    "    <div style = \"color:green; font-size:40px;\">1.</div>\n",
    "    <br>\n",
    "    <div style = \"font-size:14px\">In the beginning, we are having some import statements that are actually providing us with the required modules and libraries.\n",
    "        for proper execution of our code.</div>\n",
    "    </div>"
   ]
  },
  {
   "cell_type": "code",
   "execution_count": null,
   "id": "e96dc046",
   "metadata": {},
   "outputs": [],
   "source": [
    "import sys\n",
    "import json\n",
    "from redfish import RedfishClient\n",
    "from redfish.rest.v1 import ServerDownOrUnreachableError\n",
    "\n",
    "#from get_resource_directory import get_resource_directory"
   ]
  },
  {
   "cell_type": "markdown",
   "id": "828be423",
   "metadata": {},
   "source": [
    "<div class = \"alert alert-block alert-success\">\n",
    "    <div style = \"color:green; font-size:40px;\">2.</div><br>\n",
    "    Below is the set_bios_password function, through which we can change the password of bios system.<br>\n",
    "    <i>Let me give you a walk through of it!</i>\n",
    "    <br>\n",
    "    There is a hierarchy involved in iLO Rest Api and everything is in form of <a href = \"https://www.w3schools.com/whatis/whatis_json.asp\" style=\"background-color:powderblue;\">JSON</a> objects i.e. name-value pairs. So we are simply following the hierarchy to navigate to required information.\n",
    "\n",
    "1. In the <b>set_bios_setting</b> function we are taking three parameters i.e. <b>Redfish object</b>, <b>new_password</b> and             exisiting password as <b>bios_password</b>. Also <b>resource_instances</b> variable is being  obtain information about the resource directory by using <i>get_resource_directory</i> module.\n",
    "<br>\n",
    "    \n",
    "2. <b>If the resource directory was disabled</b> we are making a series of http <a href = \"https://developer.mozilla.org/en-US/docs/Web/HTTP/Methods\" style=\"background-color:powderblue;\">GET</a>. requests to the server so as to obtain info about bios settings.\n",
    "    <ul>\n",
    "    <li>The information about bios settings is present inside a particular json object of iLO rest api. </li><li>We just need to navigate to that directory so as to obtain info about bios settings and later make changes to the existing password.</li> <li>For that purpose simply we are making series of get requests.</li>\n",
    "        <li>After navigating through iLO rest api we actually save the http address of location where bios settings are present inside <b>bios_uri</b> </li>\n",
    "    </ul>\n",
    "    <br>\n",
    " \n",
    "\n",
    "3. <b>Else if the resource directory is enabled</b> then we will simply iterate through all instances inside resources \n",
    "    and if #bios attribute is present in <b>@odata.type</b> attribute then we'll store information about bios settings of the system inside of bios_data variable and break out of iteration.\n",
    "    <br>\n",
    "4. <b>If bios_uri is not null</b> after making above operations, we can perform the required actions to change the bios password. <ul>\n",
    "    <li>Following up we make get request and obtain the URL of the location where we are actually going to make the changes. </li><li>Ultimately, we make a post request by passing the bios_change_pass_uri and body dictionary that contains the changes made to the password.</li> \n",
    "    <li>The job of post request here is to update the password at the provided location and send a response whether the job was done properly or not.</li>\n",
    "    \n",
    "    If the reponse status code was anything other than 200 or 201 then we can print out the response status code and error message.<br> \n",
    "    Else we print out success message with the response obtained after making post request.\n",
    "    <br>\n",
    " \n",
    "    </ul>\n",
    "\n",
    " </div>"
   ]
  },
  {
   "cell_type": "code",
   "execution_count": 2,
   "id": "ee515d74",
   "metadata": {},
   "outputs": [],
   "source": [
    "def set_bios_password(_redfishobj, new_password, bios_password):\n",
    "\n",
    "    bios_uri = None\n",
    "\n",
    "    resource_instances = _redfishobj.get_resource_directory()\n",
    "    if DISABLE_RESOURCE_DIR or not resource_instances:\n",
    "        #if we do not have a resource directory or want to force it's non use to find the\n",
    "        #relevant URI\n",
    "        systems_uri = _redfishobj.root.obj['Systems']['@odata.id']\n",
    "        systems_response = _redfishobj.get(systems_uri)\n",
    "        systems_members_uri = next(iter(systems_response.obj['Members']))['@odata.id']\n",
    "        systems_members_response = _redfishobj.get(systems_members_uri)\n",
    "        bios_uri = systems_members_response.obj['Bios']['@odata.id']\n",
    "    else:\n",
    "        #Use Resource directory to find the relevant URI\n",
    "        for instance in resource_instances:\n",
    "            if '#Bios.' in instance['@odata.type']:\n",
    "                bios_uri = instance['@odata.id']\n",
    "                break\n",
    "\n",
    "    if bios_uri:\n",
    "        bios_data = _redfishobj.get(bios_uri)\n",
    "        bios_change_pass_uri = bios_data.obj['Actions']['#Bios.ChangePassword']['target']\n",
    "        body = dict()\n",
    "        body[\"PasswordName\"] = \"Administrator\"\n",
    "        body[\"OldPassword\"] = bios_password\n",
    "        body[\"NewPassword\"] = new_password\n",
    "        resp = _redfishobj.post(bios_change_pass_uri, body)\n",
    "        #If iLO responds with soemthing outside of 200 or 201 then lets check the iLO extended info\n",
    "        #error message to see what went wrong\n",
    "        if resp.status == 400:\n",
    "            try:\n",
    "                print(json.dumps(resp.obj['error']['@Message.ExtendedInfo'], indent=4, \\\n",
    "                                                                                sort_keys=True))\n",
    "            except Exception as excp:\n",
    "                sys.stderr.write(\"A response error occurred, unable to access iLO Extended \"\\\n",
    "                                 \"Message Info...\")\n",
    "        elif resp.status != 200:\n",
    "            sys.stderr.write(\"An http response of \\'%s\\' was returned.\\n\" % resp.status)\n",
    "        else:\n",
    "            print(\"Success!\\n\")\n",
    "            print(json.dumps(resp.dict, indent=4, sort_keys=True))"
   ]
  },
  {
   "cell_type": "markdown",
   "id": "1b93c0d7",
   "metadata": {},
   "source": [
    "<div class=\"alert alert-block alert-success\">\n",
    "    <div style = \"color:green; font-size:40px;\">3.</div><br>\n",
    "<b>The Main function: </b> PLEASE ENTER YOU LOGIN CREDENTIALS HERE.<br>\n",
    "    <ul>\n",
    "        <li>Once you enter everything a redfish object is created with the help of RedfishClient class and a session is created and now you will be logged in to the server</li>\n",
    "        <li>We are passing the required information to change the password of iLO user account i.e. base_url, username, password</li>\n",
    "        <li>If server is down or Unreachable we get server not reachable message!</li>\n",
    "        <li>Once everything is done you are automatically logged out. </li>\n",
    "        <li> Need more help . Please check <a href = \"#\">here</a>\n",
    "    </ul>\n",
    "</div>"
   ]
  },
  {
   "cell_type": "code",
   "execution_count": null,
   "id": "38b9fd3a",
   "metadata": {},
   "outputs": [],
   "source": [
    "if __name__ == \"__main__\":\n",
    "    SYSTEM_URL = input(\"Enter System URL: \")\n",
    "    LOGIN_ACCOUNT = input(\"Enter Name: \")\n",
    "    LOGIN_PASSWORD = input(\"Enter password: \")\n",
    "\n",
    "    #new BIOS password\n",
    "    NEW_BIOS_PASSWORD = \"password\"\n",
    "    #old BIOS password\n",
    "    OLD_BIOS_PASSWORD = \"password\"\n",
    "    # flag to force disable resource directory. Resource directory and associated operations are\n",
    "    # intended for HPE servers.\n",
    "    DISABLE_RESOURCE_DIR = False\n",
    "\n",
    "    try:\n",
    "        # Create a Redfish client object\n",
    "        REDFISHOBJ = RedfishClient(base_url=SYSTEM_URL, username=LOGIN_ACCOUNT, \\\n",
    "                                                                            password=LOGIN_PASSWORD)\n",
    "        # Login with the Redfish client\n",
    "        REDFISHOBJ.login()\n",
    "    except ServerDownOrUnreachableError as excp:\n",
    "        sys.stderr.write(\"ERROR: server not reachable or does not support RedFish.\\n\")\n",
    "        sys.exit()\n",
    "\n",
    "    set_bios_password(REDFISHOBJ, NEW_BIOS_PASSWORD, OLD_BIOS_PASSWORD)\n",
    "    REDFISHOBJ.logout()"
   ]
  },
  {
   "cell_type": "markdown",
   "id": "34f69788",
   "metadata": {},
   "source": [
    "<div class=\"alert alert-block alert-warning\">\n",
    "<b> When running on the server locally : </b>  use the following values <br>\n",
    "    SYSTEM_URL = None <br>\n",
    "    LOGIN_ACCOUNT = None <br>\n",
    "    LOGIN_PASSWORD = None <br>\n",
    "    <b> When running remotely </b> connect using the secured (https://) address,account name, and password to send https requests <br>\n",
    "    SYSTEM_URL acceptable examples: <br>\n",
    "    \"https://10.0.0.100\" <br>\n",
    "    \"https://ilo.hostname\"\n",
    "</div>"
   ]
  }
 ],
 "metadata": {
  "kernelspec": {
   "display_name": "Python 3 (ipykernel)",
   "language": "python",
   "name": "python3"
  },
  "language_info": {
   "codemirror_mode": {
    "name": "ipython",
    "version": 3
   },
   "file_extension": ".py",
   "mimetype": "text/x-python",
   "name": "python",
   "nbconvert_exporter": "python",
   "pygments_lexer": "ipython3",
   "version": "3.8.6"
  }
 },
 "nbformat": 4,
 "nbformat_minor": 5
}
