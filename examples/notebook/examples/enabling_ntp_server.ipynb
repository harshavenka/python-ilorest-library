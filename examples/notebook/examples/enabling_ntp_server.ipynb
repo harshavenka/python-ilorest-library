{
 "cells": [
  {
   "cell_type": "markdown",
   "metadata": {},
   "source": [
    "# ENABLING NTP SERVER "
   ]
  },
  {
   "cell_type": "markdown",
   "metadata": {},
   "source": [
    "<div class=\"alert alert-block alert-info\">\n",
    "<i>Hello User.!<br></i> Welcome to <b>python-iLOrest-library</b> <br> This is the example to <b>enable ntp servers .</b> <br> As you are here let's get it done easily.<br>\n",
    "    To perform this u need to have <a href = \"https://github.com/HewlettPackard/python-ilorest-library\" style = \"\">python-ilorest-library</a> installed in your machine.<br>\n",
    "    And please keep your username and password handy!\n",
    "    <br>\n",
    "    <b>Also do execute each successive cell once to avoid any errors!</b>\n",
    "    \n",
    "</div>"
   ]
  },
  {
   "cell_type": "markdown",
   "metadata": {},
   "source": [
    "\n",
    "<div class = \"alert alert-block alert-success\">\n",
    "<h1>1</h1>    \n",
    "In the beginning, we are having some import statements that are actually providing us with the required modules and libraries.\n",
    "for proper execution of our code.</div>"
   ]
  },
  {
   "cell_type": "code",
   "execution_count": null,
   "metadata": {},
   "outputs": [],
   "source": [
    "\n",
    "import sys\n",
    "import json\n",
    "import getpass\n",
    "from redfish import RedfishClient\n",
    "from redfish.rest.v1 import ServerDownOrUnreachableError\n"
   ]
  },
  {
   "cell_type": "markdown",
   "metadata": {},
   "source": [
    "<div class = \"alert alert-block alert-success\">\n",
    "    <h1>2</h1>   \n",
    "Below function describes the process how to enable NTP servers for HPE ilo systems. NTP or Network Time Protocol is an internet protocol used to synchronize with computer clokc time sources in a network. \n",
    "Current cell is the explains the processes performed inside the below function.\n",
    "    <br>\n",
    "    <i>Let me give you a walk through of it!</i>\n",
    "    <br>\n",
    " There is a hierarchy involved in iLO Rest Api. So we are simply following the hierarchy present to obtain the power metrics information.\n",
    "\n",
    "1. Initially, to obtain NTP server related information for HPE ilo systems a series of HTTP GET requests are being made so as to navigate to that path inside the iLO rest api where required information is stored.\n",
    "After completion of these get requests we will be having the relevant uri in <b>manager_ethernet_interfaces_members</b>.\n",
    "<br>\n",
    "2. Else if <b>resource directory</b> is enabled we can just use the resource directory to and then again navigate through the api to find relevant uri.\n",
    "<br>\n",
    "    \n",
    "3. Whatever changes need to be made to enable the NTP server are being enclosed inside the dictionary named as <b>body</b>. Next up for all the instances of ethernet in ethernet_data we simply make a <b>HTTP PATCH</b> request by passing the ethernet instance and body dictionary with the PATCH request. \n",
    "    \n",
    "\n",
    "4. Following the patch request, the response returned by server is being saved inside resp variable and later if the server returns proper response it means there is no error else error is returned with error information. A reference for json.dumps\n",
    "function as it is used multiple times - <a href=\"https://www.geeksforgeeks.org/json-dumps-in-python/\">click here</a>.\n",
    "\n",
    "\n",
    "\n",
    " </div>"
   ]
  },
  {
   "cell_type": "code",
   "execution_count": 7,
   "metadata": {},
   "outputs": [],
   "source": [
    "def enable_ntp(_redfishobj, ntp_servers, DISABLE_RESOURCE_DIR):\n",
    "\n",
    "    ethernet_data = {}\n",
    "\n",
    "    resource_instances = redfishobj.get_resource_directory()\n",
    "    if DISABLE_RESOURCE_DIR or not resource_instances:\n",
    "        #if we do not have a resource directory or want to force it's non use to find the\n",
    "        #relevant URI\n",
    "        managers_uri = _redfishobj.root.obj['Managers']['@odata.id']\n",
    "        managers_response = _redfishobj.get(managers_uri)\n",
    "        managers_members_uri = next(iter(managers_response.obj['Members']))['@odata.id']\n",
    "        managers_members_response = _redfishobj.get(managers_members_uri)\n",
    "        manager_ethernet_interfaces = managers_members_response.obj['EthernetInterfaces']\\\n",
    "                                                                                    ['@odata.id']\n",
    "        manager_ethernet_interfaces_response = _redfishobj.get(manager_ethernet_interfaces)\n",
    "        manager_ethernet_interfaces_members = manager_ethernet_interfaces_response.\\\n",
    "                                                            obj['Members']\n",
    "        for _member in manager_ethernet_interfaces_members:\n",
    "            _tmp = _redfishobj.get(_member['@odata.id']).obj\n",
    "            ethernet_data[_member['@odata.id']] = _tmp\n",
    "    else:\n",
    "        #Use Resource directory to find the relevant URI\n",
    "        for instance in resource_instances:\n",
    "            if '#EthernetInterfaceCollection.' in instance['@odata.type'] and 'Managers' in \\\n",
    "                                                                        instance['@odata.id']:\n",
    "                ethernet_uri = instance['@odata.id']\n",
    "                ethernet_interfaces = _redfishobj.get(ethernet_uri).obj['Members']\n",
    "                for _ethernet_interface in ethernet_interfaces:\n",
    "                    ethernet_data[_ethernet_interface['@odata.id']] = _redfishobj.\\\n",
    "                                                        get(_ethernet_interface['@odata.id']).dict\n",
    "                break\n",
    "\n",
    "    if ethernet_data:\n",
    "        print(\"\\n\\nShowing all available ethernet management interfaces before changes:\\n\\n\")\n",
    "        print(json.dumps(ethernet_data, indent=4, sort_keys=True))\n",
    "\n",
    "    body = {\"Oem\": {\"Hpe\": {\"DHCPv4\": {\"UseNTPServers\": ntp_servers}, \\\n",
    "                            \"DHCPv6\": {\"UseNTPServers\": ntp_servers}}}}\n",
    "    for ethernet in ethernet_data:\n",
    "        resp = _redfishobj.patch(ethernet, body)\n",
    "        if resp.status == 400:\n",
    "            try:\n",
    "                print(json.dumps(resp.obj['error']['@Message.ExtendedInfo'], indent=4, \\\n",
    "                                                                                sort_keys=True))\n",
    "            except Exception as excp:\n",
    "                sys.stderr.write(\"A response error occurred, unable to access iLO Extended \"\\\n",
    "                                 \"Message Info...\")\n",
    "        elif resp.status != 200:\n",
    "            sys.stderr.write(\"An http response of \\'%s\\' was returned.\\n\" % resp.status)\n",
    "        else:\n",
    "            print(\"Success!\\n\")\n",
    "            print(json.dumps(resp.dict, indent=4, sort_keys=True))\n",
    "            _data = _redfishobj.get(ethernet).dict\n",
    "            sys.stdout.write(\"\\nShowing \\'%s\\' interface after changes:\\n\" % ethernet)\n",
    "            print(json.dumps(_data, indent=4, sort_keys=True))\n"
   ]
  },
  {
   "cell_type": "markdown",
   "metadata": {},
   "source": [
    "<div class=\"alert alert-block alert-success\">\n",
    "<h1>3</h1>   \n",
    "<b>The Main function: </b> PLEASE ENTER YOU LOGIN CREDENTIALS HERE TO PROCEED FURTHER<br>\n",
    "<ul>\n",
    "        \n",
    "<li>Once your credentials that are enter everything a redfish object is created with the help of RedfishClient class and a session is created and now you will be logged in to the server.</li>\n",
    "<li>If server is down or Unreachable we get server not reachable message!</li>\n",
    "<li>If not then we make a call to <b>enable_ntp function</b> by passing parameters such as redfishclient object and enable flag to perform required operation.</li>\n",
    "<li>After getting required information <i><b>Redfish.logout()</b></i> closes the particular session and logs us out of the system.</li>\n",
    "    </ul>\n",
    "</div>"
   ]
  },
  {
   "cell_type": "code",
   "execution_count": null,
   "metadata": {},
   "outputs": [],
   "source": [
    "if __name__ == \"__main__\":\n",
    "    \n",
    "    SYSTEM_URL = input(\"Enter System URL: \")\n",
    "    LOGIN_ACCOUNT = input(\"Enter Name: \")\n",
    "    LOGIN_PASSWORD = getpass.getpass(\"Enter password: \")\n",
    "\n",
    "    # Properties\n",
    "    # NTP Servers Enable/Disable Flag\n",
    "    NTP_SERVERS = True\n",
    "    # flag to force disable resource directory. Resource directory and associated operations are\n",
    "    # intended for HPE servers.\n",
    "    DISABLE_RESOURCE_DIR = False\n",
    "\n",
    "    try:\n",
    "        # Create a Redfish client object\n",
    "        REDFISHOBJ = RedfishClient(base_url=SYSTEM_URL, username=LOGIN_ACCOUNT, \\\n",
    "                                                                            password=LOGIN_PASSWORD)\n",
    "        # Login with the Redfish client\n",
    "        REDFISHOBJ.login()\n",
    "    except ServerDownOrUnreachableError as excp:\n",
    "        sys.stderr.write(\"ERROR: server not reachable or does not support RedFish.\\n\")\n",
    "        sys.exit()\n",
    "\n",
    "    enable_ntp(REDFISHOBJ, NTP_SERVERS, DISABLE_RESOURCE_DIR)\n",
    "    REDFISHOBJ.logout()\n"
   ]
  },
  {
   "cell_type": "markdown",
   "metadata": {},
   "source": [
    "<div class = \"alert alert-block alert-warning\">\n",
    "    <b>When running on the server locally use the following commented values</b><br>\n",
    " SYSTEM_URL = None<br>\n",
    " LOGIN_ACCOUNT = None<br>\n",
    " LOGIN_PASSWORD = None<br>\n",
    "\n",
    "   <b>When running remotely</b> connect using the secured (https://) address,\n",
    "     account name, and password to send https requests\n",
    "    <br>\n",
    "     SYSTEM_URL acceptable examples:<br>\n",
    "     https://10.0.0.100<br>\n",
    "     https://ilo.hostname\n",
    "</div>"
   ]
  },
  {
   "cell_type": "markdown",
   "metadata": {},
   "source": [
    "<div class = \"alert alert-block alert-success\">In case you need help 🔗 links to relevant resources :\n",
    "    <br>\n",
    "    1.Python-ilorest-library:<a href = \"https://github.com/HewlettPackard/python-ilorest-library\">LINK</a><br>\n",
    "    2.Hpe ilorest-api explorer:<a href = \"https://ilorestfulapiexplorer.ext.hpe.com/\">LINK</a><br>\n",
    "    3.Rest api: <a href = \"https://restfulapi.net/\">LINK</a><br>\n",
    "    \n",
    "</div>"
   ]
  }
 ],
 "metadata": {
  "kernelspec": {
   "display_name": "Python 3",
   "language": "python",
   "name": "python3"
  },
  "language_info": {
   "codemirror_mode": {
    "name": "ipython",
    "version": 3
   },
   "file_extension": ".py",
   "mimetype": "text/x-python",
   "name": "python",
   "nbconvert_exporter": "python",
   "pygments_lexer": "ipython3",
   "version": "3.8.5"
  }
 },
 "nbformat": 4,
 "nbformat_minor": 4
}
