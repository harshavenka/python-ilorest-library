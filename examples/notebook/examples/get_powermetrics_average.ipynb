{
 "cells": [
  {
   "cell_type": "markdown",
   "metadata": {},
   "source": [
    "# GETTING POWERMETRICS AVERAGE"
   ]
  },
  {
   "cell_type": "markdown",
   "metadata": {},
   "source": [
    "<div class=\"alert alert-block alert-info\">\n",
    "<i>Hello User.!<br></i> Welcome to <b>python-iLOrest-library</b> <br> This is the example to <b>get powermetrics average about HPE iLO system.</b> <br> As you are here let's get it done easily.<br>\n",
    "    To perform this u need to have <a href = \"https://github.com/HewlettPackard/python-ilorest-library\" style = \"background-color:white\">python-ilorest-library</a> installed in your machine.<br>\n",
    "    And please keep your username and password handy!\n",
    "    <br>\n",
    "    <b>Also do execute each successive cell once to avoid any errors!</b>\n",
    "    \n",
    "</div>"
   ]
  },
  {
   "cell_type": "markdown",
   "metadata": {},
   "source": [
    "<div class = \"alert alert-block alert-success\">In the beginning, we are having some import statements that are actually providing us with the required modules and libraries.\n",
    "for proper execution of our code.</div>"
   ]
  },
  {
   "cell_type": "code",
   "execution_count": 1,
   "metadata": {},
   "outputs": [],
   "source": [
    "\n",
    "\"\"\"\n",
    "An example of gathering the power metrics average on HPE iLO systems\n",
    "\"\"\"\n",
    "\n",
    "import sys\n",
    "import json\n",
    "from redfish import RedfishClient\n",
    "from redfish.rest.v1 import ServerDownOrUnreachableError\n",
    "\n",
    "#from get_resource_directory import get_resource_directory\n",
    "\n"
   ]
  },
  {
   "cell_type": "markdown",
   "metadata": {},
   "source": [
    "<div class = \"alert alert-block alert-success\">This is our powermetrics function overview, in the end this will give us with power related information.<br>\n",
    "    <i>Let me give you a walk through of it!</i>\n",
    "    <br>\n",
    " There is a hierarchy involved in iLO Rest Api. So we are simply following the hierarchy present to obtain the power metrics information.\n",
    "\n",
    "1. In the <b>get_powermetrics_average</b> function we are first using <b>resource_instances</b> variable to obtain information about the resource directory by using get_resource_directory module.\n",
    "<br>\n",
    "    \n",
    "2. In the ILO rest api the information about power metrics is stored inside the <b>chassis json object</b>.\n",
    "    Through chassis_response variable  we are making a http <a href = \"https://developer.mozilla.org/en-US/docs/Web/HTTP/Methods\" style=\"background-color:powderblue;\">GET operation</a> to and trying to obtain the power metrics about iLO system.\n",
    "    <br>\n",
    "\n",
    "3. In the chassis response object we are iterating on all the members with different <b>odata_id</b> .\n",
    "    Then again an http GET request is made and response is stored in <b>chassis_members_response</b>.\n",
    "    The power metrics information is ultimately present in the <b>chassis_members_response</b>.\n",
    "    <br>\n",
    "\n",
    "4. Else if resource directory is enabled then we will simply iterate through all instances inside resources \n",
    "    and if power attribute is present in <b>@odata.type</b> attribute then we'll store information about power metrics in power_metrics_uri and break out of iteration.\n",
    "    <br>\n",
    "\n",
    "Ultimately if power_metrics_uri was obtained without any errors then get the information at the relevant uri and print out that information .\n",
    "\n",
    " </div>"
   ]
  },
  {
   "cell_type": "code",
   "execution_count": 2,
   "metadata": {},
   "outputs": [],
   "source": [
    "def get_powermetrics_average(_redfishobj):\n",
    "\n",
    "    power_metrics_uri = None\n",
    "\n",
    "    resource_instances = _redfishobj.get_resource_directory()\n",
    "    if DISABLE_RESOURCE_DIR or not resource_instances:\n",
    "        #if we do not have a resource directory or want to force it's non use to find the\n",
    "        #relevant URI\n",
    "        chassis_uri = _redfishobj.root.obj['Chassis']['@odata.id']\n",
    "        chassis_response = _redfishobj.get(chassis_uri)\n",
    "        chassis_members_uri = next(iter(chassis_response.obj['Members']))['@odata.id']\n",
    "        chassis_members_response = _redfishobj.get(chassis_members_uri)\n",
    "        power_metrics_uri = chassis_members_response.obj.Oem.Hpe['Power']['@odata.id']\n",
    "    else:\n",
    "        for instance in resource_instances:\n",
    "            #Use Resource directory to find the relevant URI\n",
    "            if '#Power.' in instance['@odata.type']:\n",
    "                power_metrics_uri = instance['@odata.id']\n",
    "                break\n",
    "\n",
    "    if power_metrics_uri:\n",
    "        power_metrics_data = _redfishobj.get(power_metrics_uri).obj.Oem.Hpe\n",
    "        print(\"\\n\\nPower Data:\\n\\n\")\n",
    "        print(json.dumps(power_metrics_data, indent=4, sort_keys=True))\n",
    "\n"
   ]
  },
  {
   "cell_type": "markdown",
   "metadata": {},
   "source": [
    "<div class=\"alert alert-block alert-success\">\n",
    "<b>The Main function: </b> PLEASE ENTER YOU LOGIN CREDENTIALS HERE TO PROCEED FURTHER<br>\n",
    "    <ul>\n",
    "        <li>Once your credentials that are enter everything a redfish obejct is created with the help of RedfishClient class and a session is created and now you will be logged in to the server.</li>\n",
    "        <li>If server is down or Unreachable we get server not reachable message!</li>\n",
    "        <li>If not then we make a call to <b>get_powermetrics_average function</b> to obtain power related info of system.</li>\n",
    "        <li>After getting required information <i><b>Redfish.logout()</b></i>closses the particular session and logs us out of the system.</li>\n",
    "    </ul>\n",
    "</div>"
   ]
  },
  {
   "cell_type": "code",
   "execution_count": 3,
   "metadata": {},
   "outputs": [
    {
     "name": "stdin",
     "output_type": "stream",
     "text": [
      "Enter iLO IP address:  15.146.51.201\n",
      "Enter Username:  Administrator\n",
      "Enter password:  12iso*help\n"
     ]
    },
    {
     "name": "stderr",
     "output_type": "stream",
     "text": [
      "Initializing no proxy.\n",
      "Response Time to /redfish/v1/: 0.7461471557617188 seconds.\n",
      "Performing session authentication.\n",
      "Response Time to /redfish/v1/SessionService/Sessions/: 0.1412818431854248 seconds.\n",
      "{'@odata.context': '/redfish/v1/$metadata#Session.Session', '@odata.etag': 'W/\"1EDAAE35\"', '@odata.id': '/redfish/v1/SessionService/Sessions/administrator0000000062d2134d30a3d67d/', '@odata.type': '#Session.v1_0_0.Session', 'Id': 'administrator0000000062d2134d30a3d67d', 'Description': 'Manager User Session', 'Name': 'User Session', 'Oem': {'Hpe': {'@odata.context': '/redfish/v1/$metadata#HpeiLOSession.HpeiLOSession', '@odata.type': '#HpeiLOSession.v2_1_0.HpeiLOSession', 'AccessTime': '2022-07-16T01:24:29Z', 'LoginTime': '2022-07-16T01:24:29Z', 'MySession': False, 'UserExpires': '2022-07-16T01:54:29Z', 'UserIP': '16.242.171.23', 'UserTag': 'REST', 'UserType': 'Local'}}, 'UserName': 'Administrator'}\n",
      "Login returned code 201: {\"@odata.context\":\"/redfish/v1/$metadata#Session.Session\",\"@odata.etag\":\"W/\\\"1EDAAE35\\\"\",\"@odata.id\":\"/redfish/v1/SessionService/Sessions/administrator0000000062d2134d30a3d67d/\",\"@odata.type\":\"#Session.v1_0_0.Session\",\"Id\":\"administrator0000000062d2134d30a3d67d\",\"Description\":\"Manager User Session\",\"Name\":\"User Session\",\"Oem\":{\"Hpe\":{\"@odata.context\":\"/redfish/v1/$metadata#HpeiLOSession.HpeiLOSession\",\"@odata.type\":\"#HpeiLOSession.v2_1_0.HpeiLOSession\",\"AccessTime\":\"2022-07-16T01:24:29Z\",\"LoginTime\":\"2022-07-16T01:24:29Z\",\"MySession\":false,\"UserExpires\":\"2022-07-16T01:54:29Z\",\"UserIP\":\"16.242.171.23\",\"UserTag\":\"REST\",\"UserType\":\"Local\"}},\"UserName\":\"Administrator\"}\n",
      "Response Time to /redfish/v1/ResourceDirectory/: 0.34035181999206543 seconds.\n",
      "Response Time to /redfish/v1/Chassis/1/Power/: 0.11631298065185547 seconds.\n"
     ]
    },
    {
     "name": "stdout",
     "output_type": "stream",
     "text": [
      "\tFound resource directory at /redfish/v1/resourcedirectory\n",
      "\n",
      "\n",
      "\n",
      "Power Data:\n",
      "\n",
      "\n",
      "{\n",
      "    \"@odata.context\": \"/redfish/v1/$metadata#HpePowerMetricsExt.HpePowerMetricsExt\",\n",
      "    \"@odata.type\": \"#HpePowerMetricsExt.v2_3_0.HpePowerMetricsExt\",\n",
      "    \"BrownoutRecoveryEnabled\": true,\n",
      "    \"HasCpuPowerMetering\": true,\n",
      "    \"HasDimmPowerMetering\": true,\n",
      "    \"HasGpuPowerMetering\": false,\n",
      "    \"HasPowerMetering\": true,\n",
      "    \"HighEfficiencyMode\": \"Balanced\",\n",
      "    \"Links\": {\n",
      "        \"FastPowerMeter\": {\n",
      "            \"@odata.id\": \"/redfish/v1/Chassis/1/Power/FastPowerMeter/\"\n",
      "        },\n",
      "        \"FederatedGroupCapping\": {\n",
      "            \"@odata.id\": \"/redfish/v1/Chassis/1/Power/FederatedGroupCapping/\"\n",
      "        },\n",
      "        \"PowerMeter\": {\n",
      "            \"@odata.id\": \"/redfish/v1/Chassis/1/Power/PowerMeter/\"\n",
      "        },\n",
      "        \"SlowPowerMeter\": {\n",
      "            \"@odata.id\": \"/redfish/v1/Chassis/1/Power/SlowPowerMeter/\"\n",
      "        }\n",
      "    },\n",
      "    \"MinimumSafelyAchievableCap\": null,\n",
      "    \"MinimumSafelyAchievableCapValid\": false,\n",
      "    \"SNMPPowerThresholdAlert\": {\n",
      "        \"DurationInMin\": 0,\n",
      "        \"ThresholdWatts\": 0,\n",
      "        \"Trigger\": \"Disabled\"\n",
      "    }\n",
      "}\n"
     ]
    },
    {
     "name": "stderr",
     "output_type": "stream",
     "text": [
      "Response Time to /redfish/v1/SessionService/Sessions/administrator0000000062d2134d30a3d67d/: 0.14523100852966309 seconds.\n",
      "User logged out: {\"error\":{\"code\":\"iLO.0.10.ExtendedInfo\",\"message\":\"See @Message.ExtendedInfo for more information.\",\"@Message.ExtendedInfo\":[{\"MessageId\":\"Base.1.4.Success\"}]}}\n"
     ]
    }
   ],
   "source": [
    "if __name__ == \"__main__\":\n",
    "    \n",
    "    SYSTEM_URL = input(\"Enter iLO IP address: \")\n",
    "    LOGIN_ACCOUNT = input(\"Enter Username: \")\n",
    "    LOGIN_PASSWORD = input(\"Enter password: \")\n",
    "\n",
    "    # flag to force disable resource directory. Resource directory and associated operations are\n",
    "    # intended for HPE servers.\n",
    "    DISABLE_RESOURCE_DIR = False\n",
    "\n",
    "    try:\n",
    "        # Create a Redfish client object\n",
    "        REDFISHOBJ = RedfishClient(base_url=SYSTEM_URL, username=LOGIN_ACCOUNT, \\\n",
    "                                                                            password=LOGIN_PASSWORD)\n",
    "        # Login with the Redfish client\n",
    "        REDFISHOBJ.login()\n",
    "    except ServerDownOrUnreachableError as excp:\n",
    "        sys.stderr.write(\"ERROR: server not reachable or does not support RedFish.\\n\")\n",
    "        sys.exit()\n",
    "\n",
    "    get_powermetrics_average(REDFISHOBJ)\n",
    "    REDFISHOBJ.logout()"
   ]
  },
  {
   "cell_type": "markdown",
   "metadata": {},
   "source": [
    "<div class = \"alert alert-block alert-warning\">\n",
    "    <b>When running on the server locally use the following commented values</b><br>\n",
    " SYSTEM_URL = None<br>\n",
    " LOGIN_ACCOUNT = None<br>\n",
    " LOGIN_PASSWORD = None<br>\n",
    "\n",
    "   <b>When running remotely</b> connect using the secured (https://) address,\n",
    "     account name, and password to send https requests\n",
    "    <br>\n",
    "     SYSTEM_URL acceptable examples:<br>\n",
    "     https://10.0.0.100<br>\n",
    "     https://ilo.hostname\n",
    "</div>"
   ]
  },
  {
   "cell_type": "markdown",
   "metadata": {},
   "source": [
    "<div class = \"alert alert-block alert-success\">In case you need help 🔗 links to relevant resources :\n",
    "    <br>\n",
    "    1.Python-ilorest-library:<a href = \"https://github.com/HewlettPackard/python-ilorest-library\">LINK</a><br>\n",
    "    2.Hpe ilorest-api explorer:<a href = \"https://ilorestfulapiexplorer.ext.hpe.com/\">LINK</a><br>\n",
    "    3.Rest api: <a href = \"https://restfulapi.net/\">LINK</a><br>\n",
    "    \n",
    "</div>"
   ]
  },
  {
   "cell_type": "code",
   "execution_count": null,
   "metadata": {},
   "outputs": [],
   "source": []
  },
  {
   "cell_type": "code",
   "execution_count": null,
   "metadata": {},
   "outputs": [],
   "source": []
  },
  {
   "cell_type": "code",
   "execution_count": null,
   "metadata": {},
   "outputs": [],
   "source": []
  },
  {
   "cell_type": "code",
   "execution_count": null,
   "metadata": {},
   "outputs": [],
   "source": []
  },
  {
   "cell_type": "code",
   "execution_count": null,
   "metadata": {},
   "outputs": [],
   "source": []
  }
 ],
 "metadata": {
  "kernelspec": {
   "display_name": "Python 3 (ipykernel)",
   "language": "python",
   "name": "python3"
  },
  "language_info": {
   "codemirror_mode": {
    "name": "ipython",
    "version": 3
   },
   "file_extension": ".py",
   "mimetype": "text/x-python",
   "name": "python",
   "nbconvert_exporter": "python",
   "pygments_lexer": "ipython3",
   "version": "3.8.6"
  }
 },
 "nbformat": 4,
 "nbformat_minor": 4
}
