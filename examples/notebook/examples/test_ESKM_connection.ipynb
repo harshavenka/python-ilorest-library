{
 "cells": [
  {
   "cell_type": "markdown",
   "id": "3dfca749-3331-47de-9d47-c705fdbfd813",
   "metadata": {
    "tags": []
   },
   "source": [
    "# Testing ESKM Connection"
   ]
  },
  {
   "cell_type": "markdown",
   "id": "ac00ccdd-3ac6-49f0-87eb-4f9c9dc185a2",
   "metadata": {},
   "source": [
    "<div class=\"alert alert-block alert-info\">\n",
    "<i>Hello there.!<br></i> Welcome to <b>python-iLOrest-library</b> <br> Here is an example to <b>test_ESKM_connection!!!</b> <br> As you are here let's get it done easily.<br>\n",
    "    To perform this u need to have <a href = \"https://libraries.io/pypi/python-ilorest-library#id3\" style = \"none\">python-ilorest-library</a> installed in your machine.<br>\n",
    "    And please keep your username and password handy!\n",
    "    <br>\n",
    "    <b>Also do execute each successive cell once to avoid any errors!</b>\n",
    "    \n",
    "</div>"
   ]
  },
  {
   "cell_type": "markdown",
   "id": "3a347c8c-d1fb-4ccf-94aa-73d7d0f42199",
   "metadata": {},
   "source": [
    "<div class=\"alert alert-block alert-success\">\n",
    "    <h1> 1.</h1>\n",
    "Below we are importing all the necessary modules from the ilorest library!.<br>\n",
    "    <li><a href = \"https://www.tutorialspoint.com/what-is-python-s-sys-module#:~:text=%20What%20is%20Python%27s%20Sys%20Module%20%201,%5B0%5D%20prints%20the...%205%20Output.%20%20More%20\">sys </a>\n",
    "    </li>\n",
    "    <li>json </li>\n",
    "    <li> redfish </li>\n",
    "    \n",
    "</div>"
   ]
  },
  {
   "cell_type": "code",
   "execution_count": null,
   "id": "7873d333-4738-4dfc-8cf3-8e424eafaa48",
   "metadata": {},
   "outputs": [],
   "source": [
    "import sys\n",
    "import json\n",
    "import getpass\n",
    "from redfish import RedfishClient\n",
    "from redfish.rest.v1 import ServerDownOrUnreachableError\n",
    "\n",
    "#from get_resource_directory import get_resource_directory\n"
   ]
  },
  {
   "cell_type": "markdown",
   "id": "d83f828e-a91e-4efc-b70f-e14a01b3cd44",
   "metadata": {},
   "source": [
    "<div class=\"alert alert-block alert-success\">\n",
    "    <p>This is our <b>test_ESKM_connection</b> function overview, in the end this will give us about the ESKM connection related information.</p>\n",
    "    <p>Let me give you a walk through of it!</p>\n",
    "    <ol>\n",
    "        <li> <b>Enterprise Secure Key Manager(ESKM)</b> is used by HPE to protect customer and user data. To check the connection of eskm, <b>test_ESKM_connection</b> function is used.</li>\n",
    "        <li> If we don't have a resource directory, information about the <b>security service</b> is stored inside the managers json object. Through <b>managers_response</b> variable we are making a http <a href = \"https://developer.mozilla.org/en-US/docs/Web/HTTP/Methods\">GET operation</a> to and trying to obtain the <b>security_service_uri</b> in the iLO system.</li>\n",
    "        <li> <b>eskm_uri</b> stores the value of the <b>security_service_uri</b></li>\n",
    "        <li> If the resource directory is present, then we will simply iterate through all instances inside resources and if the ESKM instance is present in <b>@odata.type</b> attribute then we will store information in <b>eskm_uri</b> and break out of iteration.</li>\n",
    "        <li> Finally, we check fot the <b>eskm_uri</b> and a http response is created indicating the successfull retrival of information.</li>\n",
    "        <li> More details can be found out using this <a href=\"https://support.hpe.com/hpesc/public/docDisplay?docId=emr_na-c02918339\">Link</a>\n",
    "    </ol>\n",
    "</div>"
   ]
  },
  {
   "cell_type": "code",
   "execution_count": null,
   "id": "3e307a7c-e9e0-4033-a9be-374e7ade9e0a",
   "metadata": {},
   "outputs": [],
   "source": [
    "def test_ESKM_connection(_redfishobj):\n",
    "\n",
    "    eskm_uri = None\n",
    "    body = dict()\n",
    "\n",
    "    resource_instances = _redfishobj.get_resource_directory()\n",
    "    if DISABLE_RESOURCE_DIR or not resource_instances:\n",
    "        #if we do not have a resource directory or want to force it's non use to find the\n",
    "        #relevant URI\n",
    "        managers_uri = _redfishobj.root.obj['Managers']['@odata.id']\n",
    "        managers_response = _redfishobj.get(managers_uri)\n",
    "        managers_members_uri = next(iter(managers_response.obj['Members']))['@odata.id']\n",
    "        managers_members_response = _redfishobj.get(managers_members_uri)\n",
    "        security_service_uri = managers_members_response.obj.Oem.Hpe.Links['SecurityService']\\\n",
    "                                                                                    ['@odata.id']\n",
    "        security_service_response = _redfishobj.get(security_service_uri)\n",
    "        eskm_uri = security_service_response.obj.Links['ESKM']['@odata.id']\n",
    "\n",
    "    else:\n",
    "        #Use Resource directory to find the relevant URI\n",
    "        for instance in resource_instances:\n",
    "            if '#HpeESKM.' in instance['@odata.type']:\n",
    "                eskm_uri = instance['@odata.id']\n",
    "                break\n",
    "\n",
    "    if eskm_uri:\n",
    "        eskm_test_conn_uri = _redfishobj.get(eskm_uri).obj['Actions']\\\n",
    "                                                    ['#HpeESKM.TestESKMConnections']['target']\n",
    "        body[\"Action\"] = \"HpeESKM.TestESKMConnections\"\n",
    "        resp = _redfishobj.post(eskm_test_conn_uri, body)\n",
    "        #If iLO responds with something outside of 200 or 201 then lets check the iLO extended info\n",
    "        #error message to see what went wrong\n",
    "        if resp.status == 400:\n",
    "            try:\n",
    "                print(json.dumps(resp.obj['error']['@Message.ExtendedInfo'], indent=4, \\\n",
    "                                                                                sort_keys=True))\n",
    "            except Exception as excp:\n",
    "                sys.stderr.write(\"A response error occurred, unable to access iLO Extended \"\\\n",
    "                                 \"Message Info...\")\n",
    "        elif resp.status != 200:\n",
    "            sys.stderr.write(\"An http response of \\'%s\\' was returned.\\n\" % resp.status)\n",
    "        else:\n",
    "            print(\"Success!\\n\")\n",
    "            print(json.dumps(resp.dict, indent=4, sort_keys=True))"
   ]
  },
  {
   "cell_type": "markdown",
   "id": "d4e940e6-887e-4e35-8f77-bc331ade4485",
   "metadata": {},
   "source": [
    "<div class=\"alert alert-block alert-success\">\n",
    "<b> <h1> 3.</h1>The Main function: </b> PLEASE ENTER YOU LOGIN CREDENTIALS HERE.<br>\n",
    "    <ul>\n",
    "        <li>Once you enter everything a redfish obejct is created with the help of RedfishClient class and a session is created and now you will  be logged in to the server</li>\n",
    "        <li>If server is down or Unreachable we get \"server not reachable\" message!</li>\n",
    "        <li>and Once everything is done you are automatically logged out with <b>.logout()<b> 😁. </li>\n",
    "    </ul>\n",
    "</div>"
   ]
  },
  {
   "cell_type": "code",
   "execution_count": null,
   "id": "6398fb6f-5672-4075-bf73-8af549f172de",
   "metadata": {},
   "outputs": [],
   "source": [
    "if __name__ == \"__main__\":\n",
    "    # When running on the server locally use the following commented values\n",
    "    #SYSTEM_URL = None\n",
    "    #LOGIN_ACCOUNT = None\n",
    "    #LOGIN_PASSWORD = None\n",
    "\n",
    "    # When running remotely connect using the secured (https://) address,\n",
    "    # account name, and password to send https requests\n",
    "    # SYSTEM_URL acceptable examples:\n",
    "    # \"https://10.0.0.100\"\n",
    "    # \"https://ilo.hostname\"\n",
    "    SYSTEM_URL = input(\"Enter iLO IP address: \")\n",
    "    LOGIN_ACCOUNT = input(\"Enter Username: \")\n",
    "    LOGIN_PASSWORD = getpass.getpass(\"Enter password: \")\n",
    "\n",
    "    # flag to force disable resource directory. Resource directory and associated operations are\n",
    "    # intended for HPE servers.\n",
    "    DISABLE_RESOURCE_DIR = False\n",
    "\n",
    "    try:\n",
    "        # Create a Redfish client object\n",
    "        REDFISHOBJ = RedfishClient(base_url=SYSTEM_URL, username=LOGIN_ACCOUNT, \\\n",
    "                                                                            password=LOGIN_PASSWORD)\n",
    "        # Login with the Redfish client\n",
    "        REDFISHOBJ.login()\n",
    "    except ServerDownOrUnreachableError as excp:\n",
    "        sys.stderr.write(\"ERROR: server not reachable or does not support RedFish.\\n\")\n",
    "        sys.exit()\n",
    "\n",
    "    test_ESKM_connection(REDFISHOBJ)\n",
    "    REDFISHOBJ.logout()"
   ]
  },
  {
   "cell_type": "markdown",
   "id": "615ad0b4-156f-478d-b6cb-8a12ad7117c3",
   "metadata": {},
   "source": [
    "<div class=\"alert alert-block alert-warning\">\n",
    "<b> When running on the server locally : </b>  use the following values <br>\n",
    "    SYSTEM_URL = None <br>\n",
    "    LOGIN_ACCOUNT = None <br>\n",
    "    LOGIN_PASSWORD = None <br>\n",
    "    <b> When running remotely </b> connect using the secured (https://) address,account name, and password to send https requests <br>\n",
    "    SYSTEM_URL acceptable examples: <br>\n",
    "    \"https://10.0.0.100\" <br>\n",
    "    \"https://ilo.hostname\"\n",
    "</div>"
   ]
  },
  {
   "cell_type": "markdown",
   "id": "8bd8051b-cc81-4dca-8b8f-c86202b35880",
   "metadata": {},
   "source": [
    "<div class=\"alert alert-block alert-success\">\n",
    "    In case you need help 🔗 links to relevant resources :<br>\n",
    "    1.Python-ilorest-library:<a href = \"https://github.com/HewlettPackard/python-ilorest-library\">LINK</a><br>\n",
    "    2.Hpe ilorest-api explorer:<a href = \"https://ilorestfulapiexplorer.ext.hpe.com/\">LINK</a><br>\n",
    "    3.Rest api: <a href = \"https://restfulapi.net/\">LINK</a><br>\n",
    "</div>"
   ]
  }
 ],
 "metadata": {
  "kernelspec": {
   "display_name": "Python 3 (ipykernel)",
   "language": "python",
   "name": "python3"
  },
  "language_info": {
   "codemirror_mode": {
    "name": "ipython",
    "version": 3
   },
   "file_extension": ".py",
   "mimetype": "text/x-python",
   "name": "python",
   "nbconvert_exporter": "python",
   "pygments_lexer": "ipython3",
   "version": "3.9.12"
  }
 },
 "nbformat": 4,
 "nbformat_minor": 5
}
