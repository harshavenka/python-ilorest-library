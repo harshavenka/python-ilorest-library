{
 "cells": [
  {
   "cell_type": "markdown",
   "id": "042acf39",
   "metadata": {
    "tags": []
   },
   "source": [
    "# Generating a certificate signing request for HPE iLO systems"
   ]
  },
  {
   "cell_type": "markdown",
   "id": "7b34599c",
   "metadata": {},
   "source": [
    "<div class=\"alert alert-block alert-info\">\n",
    "<i>Hello there.!<br></i> Welcome to <b>python-iLOrest-library</b> <br> Here is an example to <b>generate_csr!!!</b> <br> As you are here let's get it done easily.<br>\n",
    "    To perform this u need to have <a href = \"https://libraries.io/pypi/python-ilorest-library#id3\" style = \"none\">python-ilorest-library</a> installed in your machine.<br>\n",
    "    And please keep your username and password handy!\n",
    "    <br>\n",
    "    <b>Also do execute each successive cell once to avoid any errors!</b>\n",
    "    \n",
    "</div>"
   ]
  },
  {
   "cell_type": "markdown",
   "id": "e7338dfb",
   "metadata": {},
   "source": [
    "<div class=\"alert alert-block alert-success\">\n",
    "    <h1> 1.</h1>\n",
    "Below we are importing all the necessary modules from the ilorest library!.<br>\n",
    "    <li><a href = \"https://www.tutorialspoint.com/what-is-python-s-sys-module#:~:text=%20What%20is%20Python%27s%20Sys%20Module%20%201,%5B0%5D%20prints%20the...%205%20Output.%20%20More%20\">sys </a>\n",
    "    </li>\n",
    "    <li>json </li>\n",
    "    <li> redfish </li>\n",
    "    \n",
    "</div>"
   ]
  },
  {
   "cell_type": "code",
   "execution_count": null,
   "id": "0c9837f2",
   "metadata": {},
   "outputs": [],
   "source": [
    "import sys\n",
    "import json\n",
    "from redfish import RedfishClient\n",
    "from redfish.rest.v1 import ServerDownOrUnreachableError\n",
    "\n",
    "from get_resource_directory import get_resource_directory"
   ]
  },
  {
   "cell_type": "markdown",
   "id": "034daf66",
   "metadata": {},
   "source": [
    "<div class = \"alert alert-block alert-success\">\n",
    "    <h1> 2. </h1>This is our generate csr function overview, in the end we will be able to make a certificate signing request.<br>\n",
    "    <i>Let me give you a walk through of it!</i>\n",
    "    <br>\n",
    " There is a hierarchy involved in iLO Rest Api. So we are simply following the hierarchy present to change the settings.<br>\n",
    "\n",
    "1. In the <b>generate_csr</b> function we are first using <b>resource_instances</b> variable to obtain information about the resource directory by using get_resource_directory module.\n",
    "<br>\n",
    "    \n",
    "2. In the ILO rest api the information about Http certificates is stored inside the <b>managers json object</b>.\n",
    "    And now through managers_response variable,        we are making a http <a href = \"https://developer.mozilla.org/en-US/docs/Web/HTTP/Methods\" style=\"background-color:powderblue;\">GET operation</a> to and trying to obtain the certificates of signing of iLO system.\n",
    "    <br>\n",
    "\n",
    "3. In the system managers members response object with different <b>odata_id</b> we get a security service uri .\n",
    "    Then again an http GET request is made and response is stored in <b>security_service_response</b>.\n",
    "    Then we will make a http_cert_response by using csr_uri through security_service_response and then using http_cert_response we will get <b>generate_csr_uri</b>.\n",
    "    <br>\n",
    "\n",
    "4. Else i.e; resource directory is enabled then we will simply iterate through all instances inside resources \n",
    "    and if HpeHttpsCert attribute is present in <b>@odata.type</b> attribute then we'll set csr_uri and <i> get </i> generate csr uri of the target.\n",
    "    <br>\n",
    "\n",
    "5. If <b>generate_csr_uri exists</b>, then we will define the body and send a <i>post</i> request through redfish object. After generating the csr, we can obtain the <b>csr_response</b> using <i>get</i> method for csr_uri. <b>csr_response</b> contains <b> CertificateSigningRequest</b>. \n",
    "\n",
    "<br>\n",
    "6. If you get the result, then it is successful. if you don't get the result, then there is an error.\n",
    " \n",
    " </div>"
   ]
  },
  {
   "cell_type": "code",
   "execution_count": 1,
   "id": "644bd708",
   "metadata": {},
   "outputs": [],
   "source": [
    "def generate_csr(_redfishobj, csr_file, csr_properties):\n",
    "\n",
    "    csr_uri = None\n",
    "    generate_csr_uri = None\n",
    "\n",
    "    resource_instances = get_resource_directory(_redfishobj)\n",
    "    if DISABLE_RESOURCE_DIR or not resource_instances:\n",
    "        #if we do not have a resource directory or want to force it's non use to find the\n",
    "        #relevant URI\n",
    "        managers_uri = _redfishobj.root.obj['Managers']['@odata.id']\n",
    "        managers_response = _redfishobj.get(managers_uri)\n",
    "        managers_members_uri = next(iter(managers_response.obj['Members']))['@odata.id']\n",
    "        managers_members_response = _redfishobj.get(managers_members_uri)\n",
    "        security_service_uri = managers_members_response.obj.Oem.Hpe.Links\\\n",
    "                                                                ['SecurityService']['@odata.id']\n",
    "        security_service_response = _redfishobj.get(security_service_uri)\n",
    "        csr_uri = security_service_response.obj.Links['HttpsCert']['@odata.id']\n",
    "        https_cert_response = _redfishobj.get(csr_uri)\n",
    "        generate_csr_uri = https_cert_response.obj['Actions']['#HpeHttpsCert.GenerateCSR']\\\n",
    "                                                                                    ['target']\n",
    "    else:\n",
    "        #Use Resource directory to find the relevant URI\n",
    "        for instance in resource_instances:\n",
    "            if '#HpeHttpsCert.' in instance['@odata.type']:\n",
    "                csr_uri = instance['@odata.id']\n",
    "                generate_csr_uri = _redfishobj.get(csr_uri).obj['Actions']\\\n",
    "                                                        ['#HpeHttpsCert.GenerateCSR']['target']\n",
    "                break\n",
    "\n",
    "    if generate_csr_uri:\n",
    "        body = dict()\n",
    "        body[\"Action\"] = \"HpeHttpsCert.GenerateCSR\"\n",
    "        body[\"City\"] = csr_properties[\"City\"]\n",
    "        body[\"CommonName\"] = csr_properties[\"CommonName\"]\n",
    "        body[\"Country\"] = csr_properties[\"Country\"]\n",
    "        body[\"OrgName\"] = csr_properties[\"OrgName\"]\n",
    "        body[\"OrgUnit\"] = csr_properties[\"OrgUnit\"]\n",
    "        body[\"State\"] = csr_properties[\"State\"]\n",
    "        resp = _redfishobj.post(generate_csr_uri, body)\n",
    "        if resp.status in [200, 201]:\n",
    "            sys.stdout.write(\"Generating CSR, this may take a few minutes\\n\")\n",
    "            sys.stdout.write(\"Sleeping for 5 minutes...\\n\")\n",
    "            time.sleep(600)\n",
    "            csr_resp = _redfishobj.get(csr_uri).dict['CertificateSigningRequest']\n",
    "            with open(csr_file, 'wb') as csroutput:\n",
    "                csroutput.write(csr_resp)\n",
    "            sys.stdout.write(\"CSR Data saved to file: '%s'\\n\" % csr_file)\n",
    "        else:\n",
    "            #If iLO responds with soemthing outside of 200 or 201 then lets check the iLO extended\n",
    "            #info error message to see what went wrong\n",
    "            if resp.status not in [200, 201]:\n",
    "                try:\n",
    "                    print(json.dumps(resp.obj['error']['@Message.ExtendedInfo'], indent=4, \\\n",
    "                                                                                    sort_keys=True))\n",
    "                except Exception as excp:\n",
    "                    sys.stderr.write(\"A response error occurred, unable to access iLO \"\\\n",
    "                                     \"Extended Message Info...\\n\")\n"
   ]
  },
  {
   "cell_type": "markdown",
   "id": "2da11ba0",
   "metadata": {},
   "source": [
    "<div class = \"alert alert-block alert-success\">\n",
    "    <h1> 3. </h1>This is Main function overview.<br>\n",
    "    <i>Let me give you a walk through of it!</i>\n",
    "    <br>\n",
    " Enter your ilo url,Username,Password here.<br>\n",
    "\n",
    "1. The rest opertions are handled by redfish object which is created by RedfishClient<br>\n",
    "<br>\n",
    "    \n",
    "2. <b>RedfishClient</b> class takes 3 parameters<i> iLO url, Username,Password</i> and returns a redfish object.<br>\n",
    "    <br>\n",
    "\n",
    "3. Once you enter everything a redfish obejct is created with the help of RedfishClient class.<br>\n",
    "    <br>\n",
    "\n",
    "4. ow we try to Login with the help of <i> REDFISHOBJ</i>, if it is successful a session is created and you are logged in, But if           Server       is not avaialbe we get an error saying \"server unreachable\"<br>\n",
    "    <br>\n",
    "5. Then we call <b>generate_csr</b> with our redfish object.<br>\n",
    "    \n",
    "\n",
    "6. REDFISHOBJ.logout() will take care of logging you out of the ilo.\n",
    "\n",
    " </div>"
   ]
  },
  {
   "cell_type": "code",
   "execution_count": null,
   "id": "46b3e899",
   "metadata": {},
   "outputs": [],
   "source": [
    "if __name__ == \"__main__\":\n",
    "    SYSTEM_URL = input(\"Enter System URL: \")\n",
    "    LOGIN_ACCOUNT = input(\"Enter Name: \")\n",
    "    LOGIN_PASSWORD = input(\"Enter password: \")\n",
    "\n",
    "    #CSR Dictionary, each value should be updated to reflect the desired CSR\n",
    "    CSR_DICT = {\"City\" : input(\"Enter city:\"), \"CommonName\": input(\"Enter name:\"), \"Country\": input(\"Enter country :\"), \\\n",
    "                \"OrgName\": input(\"Enter organization :\"), \"OrgUnit\": input(\"Enter unit :\"), \"State\": input(\"Enter state:\")}\n",
    "\n",
    "    #After CSR is generated, a file will be created and the CSR will be downloaded\n",
    "    CSR_FILE = \"csr.txt\"\n",
    "    # flag to force disable resource directory. Resource directory and associated operations are\n",
    "    # intended for HPE servers.\n",
    "    DISABLE_RESOURCE_DIR = False\n",
    "\n",
    "    try:\n",
    "        # Create a Redfish client object\n",
    "        REDFISHOBJ = RedfishClient(base_url=SYSTEM_URL, username=LOGIN_ACCOUNT, \\\n",
    "                                                                            password=LOGIN_PASSWORD)\n",
    "        # Login with the Redfish client\n",
    "        REDFISHOBJ.login()\n",
    "    except ServerDownOrUnreachableError as excp:\n",
    "        sys.stderr.write(\"ERROR: server not reachable or does not support RedFish.\\n\")\n",
    "        sys.exit()\n",
    "\n",
    "    generate_csr(REDFISHOBJ, CSR_FILE, CSR_DICT)\n",
    "    REDFISHOBJ.logout()"
   ]
  },
  {
   "cell_type": "markdown",
   "id": "06934cbc",
   "metadata": {},
   "source": [
    "<div class=\"alert alert-block alert-warning\">\n",
    "<b> When running on the server locally : </b>  use the following values <br>\n",
    "    SYSTEM_URL = None <br>\n",
    "    LOGIN_ACCOUNT = None <br>\n",
    "    LOGIN_PASSWORD = None <br>\n",
    "    <b> When running remotely </b> connect using the secured (https://) address,account name, and password to send https requests <br>\n",
    "    SYSTEM_URL acceptable examples: <br>\n",
    "    \"https://10.0.0.100\" <br>\n",
    "    \"https://ilo.hostname\"\n",
    "</div>"
   ]
  },
  {
   "cell_type": "markdown",
   "id": "12c33902",
   "metadata": {},
   "source": [
    "<div class = \"alert alert-block alert-success\">In case you need help 🔗 links to relevant resources :\n",
    "    <br>\n",
    "    1.Python-ilorest-library:<a href = \"https://github.com/HewlettPackard/python-ilorest-library\">LINK</a><br>\n",
    "    2.Hpe ilorest-api explorer:<a href = \"https://ilorestfulapiexplorer.ext.hpe.com/\">LINK</a><br>\n",
    "    3.Rest api: <a href = \"https://restfulapi.net/\">LINK</a><br>\n",
    "    \n",
    "</div>"
   ]
  }
 ],
 "metadata": {
  "kernelspec": {
   "display_name": "Python 3 (ipykernel)",
   "language": "python",
   "name": "python3"
  },
  "language_info": {
   "codemirror_mode": {
    "name": "ipython",
    "version": 3
   },
   "file_extension": ".py",
   "mimetype": "text/x-python",
   "name": "python",
   "nbconvert_exporter": "python",
   "pygments_lexer": "ipython3",
   "version": "3.8.6"
  }
 },
 "nbformat": 4,
 "nbformat_minor": 5
}
