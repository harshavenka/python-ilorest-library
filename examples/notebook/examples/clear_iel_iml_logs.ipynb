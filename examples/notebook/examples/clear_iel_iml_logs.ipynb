{
 "cells": [
  {
   "cell_type": "markdown",
   "metadata": {
    "tags": []
   },
   "source": [
    "# Reverting the BIOS to default values"
   ]
  },
  {
   "cell_type": "markdown",
   "metadata": {},
   "source": [
    "<div class=\"alert alert-block alert-info\">\n",
    "<i>Hello there.!<br></i> Welcome to <b>python-iLOrest-library</b> <br> Here is an example to <b>for clearing out the ilo event log and management log at server side!!</b> <br> As you are here let's get it done easily.<br>\n",
    "    To perform this u need to have <a href = \"#\" style = \"none\">python-ilorest-library</a> installed in your machine.<br>\n",
    "    And please keep your username and password handy!\n",
    "    \n",
    "</div>"
   ]
  },
  {
   "cell_type": "markdown",
   "metadata": {},
   "source": [
    "<div class = \"alert alert-block alert-success\">\n",
    "<h1>1</h1>\n",
    "In the beginning, we are having some import statements that are actually providing us with the required modules and libraries.\n",
    "for proper execution of our code\n",
    "</div>"
   ]
  },
  {
   "cell_type": "code",
   "execution_count": 3,
   "metadata": {},
   "outputs": [],
   "source": [
    "import sys\n",
    "import json\n",
    "import getpass\n",
    "from redfish import RedfishClient\n",
    "from redfish.rest.v1 import ServerDownOrUnreachableError"
   ]
  },
  {
   "cell_type": "markdown",
   "metadata": {},
   "source": [
    "<div class=\"alert alert-block alert-success\">\n",
    "    <h1>2</h1>\n",
    "This cell gives overview about of the function used to clear event logs such as IML and IEL logs.       \n",
    "The IML provides a record of historical events that have occurred on the server and the IEL is the iLO event log provides record of significant events detected by iLO.\n",
    "    \n",
    "1. When the resource directory is disabled then we simply navigate through the API for obtaining the relevant uri.\n",
    "    The series of HTTP get requests aims to extracts <b>log_services_response</b> so as to get the path of the directory for which IEL and IML logs need to be cleared.\n",
    "    <br>\n",
    "2. Else if the resource directory enabled then rather we can simply extract the uri by <b>#LogService.</b>attribute inside the <b>instance['odatatype']</b> dictionary and again make a HTTP  get request to obtain the required uri.\n",
    "    <br>\n",
    "3. After obtaining the uri we just need to make changes on the same location using a post request so as to clear IEL and IML logs successfully. For this body dictionary contains the attribute to be changed and IEL/IML are searched in the path of <b>clear_log_services_uri </b> and the respective changes are made by <b>redfishobj.post(path,body)</b>.\n",
    "    <br>\n",
    "    \n",
    "4. Later we also check for the response returned by the server side. If the response is anything outside of status code with 200 then error message gets rendered on the webpage else the success message is printed out with the response dictionary returned by the server.\n",
    "\n",
    "</div>"
   ]
  },
  {
   "cell_type": "code",
   "execution_count": 4,
   "metadata": {},
   "outputs": [],
   "source": [
    "def clear_ilo_event_log(_redfishobj, clear_IML_IEL):\n",
    "\n",
    "    clear_log_services_uri = []\n",
    "\n",
    "    resource_instances = redfishobj.get_resource_directory()\n",
    "    if DISABLE_RESOURCE_DIR or not resource_instances:\n",
    "        #if we do not have a resource directory or want to force it's non use to find the\n",
    "        #relevant URI\n",
    "        systems_uri = _redfishobj.root.obj['Systems']['@odata.id']\n",
    "        systems_response = _redfishobj.get(systems_uri)\n",
    "        systems_members_uri = next(iter(systems_response.obj['Members']))['@odata.id']\n",
    "        systems_members_response = _redfishobj.get(systems_members_uri)\n",
    "        log_services_uri = systems_members_response.obj['LogServices']['@odata.id']\n",
    "        log_services_response = _redfishobj.get(log_services_uri)\n",
    "        log_services_uris = log_services_response.obj['Members']\n",
    "        for log_services_uri in log_services_uris:\n",
    "            log_services_response = _redfishobj.get(log_services_uri['@odata.id'])\n",
    "            clear_log_services_uri.append(log_services_response.obj['Actions']\\\n",
    "                                                                ['#LogService.ClearLog']['target'])\n",
    "    else:\n",
    "        for instance in resource_instances:\n",
    "            #Use Resource directory to find the relevant URI\n",
    "            if '#LogService.' in instance['@odata.type']:\n",
    "                log_service_uri = instance['@odata.id']\n",
    "                clear_log_services_uri.append(_redfishobj.get(log_service_uri).dict['Actions']\\\n",
    "                                                                ['#LogService.ClearLog']['target'])\n",
    "\n",
    "    if clear_log_services_uri:\n",
    "        body = {\"Action\": \"LogService.ClearLog\"}\n",
    "        for path in clear_log_services_uri:\n",
    "            if (\"IEL\" in clear_IML_IEL and \"IEL\" in path) or (\"IML\" in clear_IML_IEL and \\\n",
    "                                                                                    \"IML\" in path):\n",
    "                if \"IEL\" in path:\n",
    "                    sys.stdout.write(\"Clearing IEL log.\\n\")\n",
    "                else:\n",
    "                    sys.stdout.write(\"Clearing IML log.\\n\")\n",
    "                resp = _redfishobj.post(path, body)\n",
    "            else:\n",
    "                continue\n",
    "            #If iLO responds with soemthing outside of 200 or 201 then lets check the iLO extended\n",
    "            #info error message to see what went wrong\n",
    "            if resp.status == 400:\n",
    "                try:\n",
    "                    print(json.dumps(resp.obj['error']['@Message.ExtendedInfo'], indent=4, \\\n",
    "                                                                                    sort_keys=True))\n",
    "                except Exception as excp:\n",
    "                    sys.stderr.write(\"A response error occurred, unable to access iLO \"\\\n",
    "                                     \"Extended Message Info...\\n\")\n",
    "            elif resp.status != 200:\n",
    "                sys.stderr.write(\"An http response of \\'%s\\' was returned.\\n\" % resp.status)\n",
    "            else:\n",
    "                print(\"Success!\\n\")\n",
    "                print(json.dumps(resp.dict, indent=4, sort_keys=True))"
   ]
  },
  {
   "cell_type": "markdown",
   "metadata": {},
   "source": [
    "<div class=\"alert alert-block alert-success\">\n",
    "<h1>3</h1>\n",
    "<b>The Main function: </b> PLEASE ENTER YOU LOGIN CREDENTIALS HERE.<br>\n",
    "    <ul>\n",
    "        <li>Once you enter everything a redfish obejct is created with the help of RedfishClient class and a session is created and now you will be logged in to the server</li>\n",
    "        <li>If server is down or Unreachable we get server not reachable message!</li>\n",
    "        <li>Else if no error is encountered a function call is made i.e. clear_ilo_event_log(REDFISHOBJ, CLEAR_IEL_IML)\n",
    "        that is responsible for handling clearing all the IEL and IML logs at the server side. </li>.\n",
    "        <li>Lastly, Redfishobj.logout logs us out of the system and ends the session.</li>\n",
    "    </ul>\n",
    "</div>"
   ]
  },
  {
   "cell_type": "code",
   "execution_count": null,
   "metadata": {},
   "outputs": [],
   "source": [
    "if __name__ == \"__main__\":\n",
    "    \n",
    "    SYSTEM_URL = input(\"Enter System URL: \")\n",
    "    LOGIN_ACCOUNT = input(\"Enter Name: \")\n",
    "    LOGIN_PASSWORD = getpass.getpass(\"Enter password: \")\n",
    "\n",
    "    # flag to force disable resource directory. Resource directory and associated operations are\n",
    "    # intended for HPE servers.\n",
    "    DISABLE_RESOURCE_DIR = False\n",
    "    CLEAR_IML_IEL = \"IML\" # provide either the string IML or IEL\n",
    "\n",
    "    try:\n",
    "        # Create a Redfish client object\n",
    "        REDFISHOBJ = RedfishClient(base_url=SYSTEM_URL, username=LOGIN_ACCOUNT, \\\n",
    "                                                                            password=LOGIN_PASSWORD)\n",
    "        # Login with the Redfish client\n",
    "        REDFISHOBJ.login()\n",
    "    except ServerDownOrUnreachableError as excp:\n",
    "        sys.stderr.write(\"ERROR: server not reachable or does not support RedFish.\\n\")\n",
    "        sys.exit()\n",
    "\n",
    "    clear_ilo_event_log(REDFISHOBJ, CLEAR_IML_IEL)\n",
    "    REDFISHOBJ.logout()"
   ]
  },
  {
   "cell_type": "markdown",
   "metadata": {},
   "source": [
    "<div class=\"alert alert-block alert-warning\">\n",
    "<b> When running on the server locally : </b>  use the following values <br>\n",
    "    SYSTEM_URL = None <br>\n",
    "    LOGIN_ACCOUNT = None <br>\n",
    "    LOGIN_PASSWORD = None <br>\n",
    "    <b> When running remotely </b> connect using the secured (https://) address,account name, and password to send https requests <br>\n",
    "    SYSTEM_URL acceptable examples: <br>\n",
    "    \"https://10.0.0.100\" <br>\n",
    "    \"https://ilo.hostname\"\n",
    "</div>"
   ]
  },
  {
   "cell_type": "markdown",
   "metadata": {},
   "source": [
    "<div class = \"alert alert-block alert-success\">In case you need help 🔗 links to relevant resources :\n",
    "    <br>\n",
    "    1.Python-ilorest-library:<a href = \"https://github.com/HewlettPackard/python-ilorest-library\">LINK</a><br>\n",
    "    2.Hpe ilorest-api explorer:<a href = \"https://ilorestfulapiexplorer.ext.hpe.com/\">LINK</a><br>\n",
    "    3.Rest api: <a href = \"https://restfulapi.net/\">LINK</a><br>\n",
    "    \n",
    "</div>"
   ]
  }
 ],
 "metadata": {
  "kernelspec": {
   "display_name": "Python 3",
   "language": "python",
   "name": "python3"
  },
  "language_info": {
   "codemirror_mode": {
    "name": "ipython",
    "version": 3
   },
   "file_extension": ".py",
   "mimetype": "text/x-python",
   "name": "python",
   "nbconvert_exporter": "python",
   "pygments_lexer": "ipython3",
   "version": "3.8.5"
  }
 },
 "nbformat": 4,
 "nbformat_minor": 5
}
