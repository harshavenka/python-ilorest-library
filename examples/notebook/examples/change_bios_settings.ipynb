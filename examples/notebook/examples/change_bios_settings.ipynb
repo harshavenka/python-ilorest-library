{
 "cells": [
  {
   "cell_type": "markdown",
   "id": "266e8885",
   "metadata": {
    "tags": []
   },
   "source": [
    "# Change BIOS settings"
   ]
  },
  {
   "cell_type": "markdown",
   "id": "358b08b4",
   "metadata": {},
   "source": [
    "<div class=\"alert alert-block alert-info\">\n",
    "<i>Hello there.!<br></i> Welcome to <b>python-iLOrest-library</b> <br> Here is an example to <b>Change BIOS settings!!!</b> <br> As you are here let's get it done easily.<br>\n",
    "    To perform this u need to have <a href = \"https://libraries.io/pypi/python-ilorest-library#id3\" style = \"none\">python-ilorest-library</a> installed in your machine.<br>\n",
    "    And please keep your username and password handy!\n",
    "    <br>\n",
    "    <b>Also do execute each successive cell once to avoid any errors!</b>\n",
    "    \n",
    "</div>"
   ]
  },
  {
   "cell_type": "markdown",
   "id": "578dfc4d",
   "metadata": {},
   "source": [
    "<div class=\"alert alert-block alert-success\">\n",
    "    <h1> 1.</h1>\n",
    "Below we are importing all the necessary modules from the ilorest library!.<br>\n",
    "    <li><a href = \"https://www.tutorialspoint.com/what-is-python-s-sys-module#:~:text=%20What%20is%20Python%27s%20Sys%20Module%20%201,%5B0%5D%20prints%20the...%205%20Output.%20%20More%20\">sys </a>\n",
    "    </li>\n",
    "    <li>json </li>\n",
    "    <li> redfish </li>\n",
    "    <li>get_resource_directory</li>\n",
    "</div>"
   ]
  },
  {
   "cell_type": "code",
   "execution_count": 1,
   "id": "c82681e9",
   "metadata": {},
   "outputs": [
    {
     "ename": "ModuleNotFoundError",
     "evalue": "No module named 'get_resource_directory'",
     "output_type": "error",
     "traceback": [
      "\u001b[1;31m---------------------------------------------------------------------------\u001b[0m",
      "\u001b[1;31mModuleNotFoundError\u001b[0m                       Traceback (most recent call last)",
      "\u001b[1;32m~\\AppData\\Local\\Temp/ipykernel_35788/1390777471.py\u001b[0m in \u001b[0;36m<module>\u001b[1;34m\u001b[0m\n\u001b[0;32m      4\u001b[0m \u001b[1;32mfrom\u001b[0m \u001b[0mredfish\u001b[0m\u001b[1;33m.\u001b[0m\u001b[0mrest\u001b[0m\u001b[1;33m.\u001b[0m\u001b[0mv1\u001b[0m \u001b[1;32mimport\u001b[0m \u001b[0mServerDownOrUnreachableError\u001b[0m\u001b[1;33m\u001b[0m\u001b[1;33m\u001b[0m\u001b[0m\n\u001b[0;32m      5\u001b[0m \u001b[1;33m\u001b[0m\u001b[0m\n\u001b[1;32m----> 6\u001b[1;33m \u001b[1;32mfrom\u001b[0m \u001b[0mget_resource_directory\u001b[0m \u001b[1;32mimport\u001b[0m \u001b[0mget_resource_directory\u001b[0m\u001b[1;33m\u001b[0m\u001b[1;33m\u001b[0m\u001b[0m\n\u001b[0m",
      "\u001b[1;31mModuleNotFoundError\u001b[0m: No module named 'get_resource_directory'"
     ]
    }
   ],
   "source": [
    "import sys\n",
    "import json\n",
    "from redfish import RedfishClient\n",
    "from redfish.rest.v1 import ServerDownOrUnreachableError\n",
    "\n",
    "from get_resource_directory import get_resource_directory"
   ]
  },
  {
   "cell_type": "markdown",
   "id": "84274de2",
   "metadata": {},
   "source": [
    "<div class = \"alert alert-block alert-success\">\n",
    "    <h1> 2. </h1>This is our change bios settings function overview, in the end this will be able to change the bios settings.<br>\n",
    "    <i>Let me give you a walk through of it!</i>\n",
    "    <br>\n",
    " There is a hierarchy involved in iLO Rest Api. So we are simply following the hierarchy present to change the settings.<br>\n",
    "\n",
    "1. In the <b>change_bios_settings</b> function we are first using <b>resource_instances</b> variable to obtain information about the resource directory by using get_resource_directory module.\n",
    "<br>\n",
    "    \n",
    "2. In the ILO rest api the information about bios is stored inside the <b>systems json object</b>.\n",
    "    And now through system_response variable,        we are making a http <a href = \"https://developer.mozilla.org/en-US/docs/Web/HTTP/Methods\" style=\"background-color:powderblue;\">GET operation</a> to and trying to obtain the bios settings of iLO system.\n",
    "    <br>\n",
    "\n",
    "3. In the system members response object with different <b>odata_id</b> we get a bios uri .\n",
    "    Then again an http GET request is made and response is stored in <b>systems_response</b>.\n",
    "    Then we set the systems_members_uri.\n",
    "    <br>\n",
    "\n",
    "4. Else i.e; resource directory is enabled then we will simply iterate through all instances inside resources \n",
    "    and if bios attribute is present in <b>@odata.type</b> attribute then we'll set bios_uri and <i> get </i> bios data of the user through redfish object. Now we will get the bios_settings_uri through bios_data object.\n",
    "    <br>\n",
    "\n",
    "5. Then if bios password is present, then we will update the bios password. Finally we will send <i>patch</i> request from redfish object using <b>bios_setting_uri</b>. \n",
    "\n",
    "    Ultimately if the operation was successfull without any errors then we will get the Success. If not we get the occured error.\n",
    "\n",
    " </div>"
   ]
  },
  {
   "cell_type": "code",
   "execution_count": 2,
   "id": "cc680e58",
   "metadata": {},
   "outputs": [],
   "source": [
    "def change_bios_setting(_redfishobj, bios_property, property_value, bios_password):\n",
    "\n",
    "    bios_uri = None\n",
    "    bios_data = None\n",
    "    resource_instances = get_resource_directory(_redfishobj)\n",
    "    if DISABLE_RESOURCE_DIR or not resource_instances:\n",
    "        #if we do not have a resource directory or want to force it's non use to find the relevant URI\n",
    "        \n",
    "        systems_uri = _redfishobj.root.obj['Systems']['@odata.id']\n",
    "        systems_response = _redfishobj.get(systems_uri)\n",
    "        systems_members_uri = next(iter(systems_response.obj['Members']))['@odata.id']\n",
    "        systems_members_response = _redfishobj.get(systems_members_uri)\n",
    "        bios_uri = systems_members_response.obj['Bios']['@odata.id']\n",
    "        bios_data = _redfishobj.get(bios_uri)\n",
    "    else:\n",
    "        #Use Resource directory to find the relevant URI\n",
    "        \n",
    "        for instance in resource_instances:\n",
    "            if '#Bios.' in instance['@odata.type']:\n",
    "                bios_uri = instance['@odata.id']\n",
    "                bios_data = _redfishobj.get(bios_uri)\n",
    "                break\n",
    "\n",
    "    if bios_data:\n",
    "        print(\"\\n\\nShowing BIOS attributes before changes:\\n\\n\")\n",
    "        print(json.dumps(bios_data.dict, indent=4, sort_keys=True))\n",
    "\n",
    "    if bios_uri:\n",
    "        #BIOS settings URI is needed\n",
    "        \n",
    "        bios_settings_uri = bios_data.obj['@Redfish.Settings']['SettingsObject']['@odata.id']\n",
    "        body = {'Attributes': {bios_property: property_value}}\n",
    "        \n",
    "        #update BIOS password\n",
    "        if bios_password:\n",
    "            _redfishobj.bios_password = bios_password\n",
    "        resp = _redfishobj.patch(bios_settings_uri, body)\n",
    "\n",
    "        #If iLO responds with soemthing outside of 200 or 201 then lets check the iLO extended info\n",
    "        #error message to see what went wrong\n",
    "        if resp.status == 400:\n",
    "            try:\n",
    "                print(json.dumps(resp.obj['error']['@Message.ExtendedInfo'], indent=4, \\\n",
    "                                                                                sort_keys=True))\n",
    "            except Exception:\n",
    "                sys.stderr.write(\"A response error occurred, unable to access iLO Extended \"\\\n",
    "                                 \"Message Info...\")\n",
    "        elif resp.status != 200:\n",
    "            sys.stderr.write(\"An http response of \\'%s\\' was returned.\\n\" % resp.status)\n",
    "        else:\n",
    "            print(\"\\nSuccess!\\n\")\n",
    "            print(json.dumps(resp.dict, indent=4, sort_keys=True))\n",
    "            #uncomment if you would like to see the full list of attributes\n",
    "            #print(\"\\n\\nShowing BIOS attributes after changes:\\n\\n\")\n",
    "            #bios_data = _redfishobj.get(bios_uri)\n",
    "            #print(json.dumps(bios_data.dict, indent=4, sort_keys=True))\n"
   ]
  },
  {
   "cell_type": "markdown",
   "id": "567eb3f8",
   "metadata": {},
   "source": [
    "<div class = \"alert alert-block alert-success\">\n",
    "    <h1> 3. </h1>This is Main function overview.<br>\n",
    "    <i>Let me give you a walk through of it!</i>\n",
    "    <br>\n",
    " Please enter iLO url, username, password, bios.attribute, attribute_value,bios password<br>\n",
    "\n",
    "1. The rest opertions are handled by redfish object which is created by RedfishClient<br>\n",
    "<br>\n",
    "    \n",
    "2. <b>RedfishClient</b> class takes 3 parameters<i> iLO url, Username,Password</i> and returns a redfish object.<br>\n",
    "    <br>\n",
    "\n",
    "3. Once you enter everything a redfish obejct is created with the help of RedfishClient class.<br>\n",
    "    <br>\n",
    "\n",
    "4. ow we try to Login with the help of <i> REDFISHOBJ</i>, if it is successful a session is created and you are logged in, But if  Server is not avaialbe we get an error saying \"server unreachable\"<br>\n",
    "    <br>\n",
    "5. Then we call <b>change_bios_settings</b> with our redfish object and the attribute we need and change and the value along with the bios password.<br>\n",
    "    \n",
    "\n",
    "6. REDFISHOBJ.logout() will take care of logging you out of the ilo.\n",
    "\n",
    " </div>"
   ]
  },
  {
   "cell_type": "code",
   "execution_count": 3,
   "id": "7c01d222",
   "metadata": {},
   "outputs": [
    {
     "name": "stdin",
     "output_type": "stream",
     "text": [
      "Enter System URL:  15.146.51.201\n",
      "Enter Name:  Administrator\n",
      "Enter password:  12iso*help\n",
      "Enter bios password:  \n",
      "Enter bios property you wish to change:  \n",
      "Enter Value of the property to change:  \n"
     ]
    },
    {
     "name": "stderr",
     "output_type": "stream",
     "text": [
      "Initializing no proxy.\n",
      "Redirecting 15.146.51.201/redfish/v1/ -> https://15.146.51.201/redfish/v1/\n",
      "Response Time to /redfish/v1/: 0.5402989387512207 seconds.\n",
      "Performing session authentication.\n",
      "Redirecting 15.146.51.201/redfish/v1/SessionService/Sessions/ -> https://15.146.51.201/redfish/v1/SessionService/Sessions/\n",
      "Response Time to /redfish/v1/SessionService/Sessions/: 0.11417365074157715 seconds.\n",
      "{'@odata.context': '/redfish/v1/$metadata#Session.Session', '@odata.etag': 'W/\"793BFE96\"', '@odata.id': '/redfish/v1/SessionService/Sessions/administrator0000000062d1d61d46e97804/', '@odata.type': '#Session.v1_0_0.Session', 'Id': 'administrator0000000062d1d61d46e97804', 'Description': 'Manager User Session', 'Name': 'User Session', 'Oem': {'Hpe': {'@odata.context': '/redfish/v1/$metadata#HpeiLOSession.HpeiLOSession', '@odata.type': '#HpeiLOSession.v2_1_0.HpeiLOSession', 'AccessTime': '2022-07-15T21:03:25Z', 'LoginTime': '2022-07-15T21:03:25Z', 'MySession': False, 'UserExpires': '2022-07-15T21:33:25Z', 'UserIP': '16.242.171.23', 'UserTag': 'REST', 'UserType': 'Local'}}, 'UserName': 'Administrator'}\n",
      "Login returned code 201: {\"@odata.context\":\"/redfish/v1/$metadata#Session.Session\",\"@odata.etag\":\"W/\\\"793BFE96\\\"\",\"@odata.id\":\"/redfish/v1/SessionService/Sessions/administrator0000000062d1d61d46e97804/\",\"@odata.type\":\"#Session.v1_0_0.Session\",\"Id\":\"administrator0000000062d1d61d46e97804\",\"Description\":\"Manager User Session\",\"Name\":\"User Session\",\"Oem\":{\"Hpe\":{\"@odata.context\":\"/redfish/v1/$metadata#HpeiLOSession.HpeiLOSession\",\"@odata.type\":\"#HpeiLOSession.v2_1_0.HpeiLOSession\",\"AccessTime\":\"2022-07-15T21:03:25Z\",\"LoginTime\":\"2022-07-15T21:03:25Z\",\"MySession\":false,\"UserExpires\":\"2022-07-15T21:33:25Z\",\"UserIP\":\"16.242.171.23\",\"UserTag\":\"REST\",\"UserType\":\"Local\"}},\"UserName\":\"Administrator\"}\n"
     ]
    },
    {
     "ename": "NameError",
     "evalue": "name 'get_resource_directory' is not defined",
     "output_type": "error",
     "traceback": [
      "\u001b[1;31m---------------------------------------------------------------------------\u001b[0m",
      "\u001b[1;31mNameError\u001b[0m                                 Traceback (most recent call last)",
      "\u001b[1;32m~\\AppData\\Local\\Temp/ipykernel_35788/3485138033.py\u001b[0m in \u001b[0;36m<module>\u001b[1;34m\u001b[0m\n\u001b[0;32m     23\u001b[0m         \u001b[0msys\u001b[0m\u001b[1;33m.\u001b[0m\u001b[0mexit\u001b[0m\u001b[1;33m(\u001b[0m\u001b[1;33m)\u001b[0m\u001b[1;33m\u001b[0m\u001b[1;33m\u001b[0m\u001b[0m\n\u001b[0;32m     24\u001b[0m \u001b[1;33m\u001b[0m\u001b[0m\n\u001b[1;32m---> 25\u001b[1;33m     \u001b[0mchange_bios_setting\u001b[0m\u001b[1;33m(\u001b[0m\u001b[0mREDFISHOBJ\u001b[0m\u001b[1;33m,\u001b[0m \u001b[0mATTRIBUTE\u001b[0m\u001b[1;33m,\u001b[0m \u001b[0mATTRIBUTE_VAL\u001b[0m\u001b[1;33m,\u001b[0m \u001b[0mBIOS_PASSWORD\u001b[0m\u001b[1;33m)\u001b[0m\u001b[1;33m\u001b[0m\u001b[1;33m\u001b[0m\u001b[0m\n\u001b[0m\u001b[0;32m     26\u001b[0m     \u001b[0mREDFISHOBJ\u001b[0m\u001b[1;33m.\u001b[0m\u001b[0mlogout\u001b[0m\u001b[1;33m(\u001b[0m\u001b[1;33m)\u001b[0m\u001b[1;33m\u001b[0m\u001b[1;33m\u001b[0m\u001b[0m\n",
      "\u001b[1;32m~\\AppData\\Local\\Temp/ipykernel_35788/2914597885.py\u001b[0m in \u001b[0;36mchange_bios_setting\u001b[1;34m(_redfishobj, bios_property, property_value, bios_password)\u001b[0m\n\u001b[0;32m      3\u001b[0m     \u001b[0mbios_uri\u001b[0m \u001b[1;33m=\u001b[0m \u001b[1;32mNone\u001b[0m\u001b[1;33m\u001b[0m\u001b[1;33m\u001b[0m\u001b[0m\n\u001b[0;32m      4\u001b[0m     \u001b[0mbios_data\u001b[0m \u001b[1;33m=\u001b[0m \u001b[1;32mNone\u001b[0m\u001b[1;33m\u001b[0m\u001b[1;33m\u001b[0m\u001b[0m\n\u001b[1;32m----> 5\u001b[1;33m     \u001b[0mresource_instances\u001b[0m \u001b[1;33m=\u001b[0m \u001b[0mget_resource_directory\u001b[0m\u001b[1;33m(\u001b[0m\u001b[0m_redfishobj\u001b[0m\u001b[1;33m)\u001b[0m\u001b[1;33m\u001b[0m\u001b[1;33m\u001b[0m\u001b[0m\n\u001b[0m\u001b[0;32m      6\u001b[0m     \u001b[1;32mif\u001b[0m \u001b[0mDISABLE_RESOURCE_DIR\u001b[0m \u001b[1;32mor\u001b[0m \u001b[1;32mnot\u001b[0m \u001b[0mresource_instances\u001b[0m\u001b[1;33m:\u001b[0m\u001b[1;33m\u001b[0m\u001b[1;33m\u001b[0m\u001b[0m\n\u001b[0;32m      7\u001b[0m         \u001b[1;31m#if we do not have a resource directory or want to force it's non use to find the relevant URI\u001b[0m\u001b[1;33m\u001b[0m\u001b[1;33m\u001b[0m\u001b[1;33m\u001b[0m\u001b[0m\n",
      "\u001b[1;31mNameError\u001b[0m: name 'get_resource_directory' is not defined"
     ]
    }
   ],
   "source": [
    "if __name__ == \"__main__\":\n",
    "    SYSTEM_URL = input(\"Enter System URL: \")\n",
    "    LOGIN_ACCOUNT = input(\"Enter Name: \")\n",
    "    LOGIN_PASSWORD = input(\"Enter password: \")\n",
    "\n",
    "    BIOS_PASSWORD = input(\"Enter bios password: \")\n",
    "    #provide the attribute name and the associated attribute value. Note: some, values may\n",
    "    #be containers (arrays or dictionaries) so keep this in mind.\n",
    "    ATTRIBUTE = input(\"Enter bios property you wish to change: \")\n",
    "    ATTRIBUTE_VAL = input(\"Enter Value of the property to change: \")\n",
    "    # flag to force disable resource directory. Resource directory and associated operations are\n",
    "    # intended for HPE servers.\n",
    "    DISABLE_RESOURCE_DIR = False\n",
    "\n",
    "    try:\n",
    "        # Create a Redfish client object\n",
    "        REDFISHOBJ = RedfishClient(base_url=SYSTEM_URL, username=LOGIN_ACCOUNT, password=LOGIN_PASSWORD)\n",
    "                                                                            \n",
    "        # Login with the Redfish client\n",
    "        REDFISHOBJ.login()\n",
    "    except ServerDownOrUnreachableError as excp:\n",
    "        sys.stderr.write(\"ERROR: server not reachable or does not support RedFish.\\n\")\n",
    "        sys.exit()\n",
    "\n",
    "    change_bios_setting(REDFISHOBJ, ATTRIBUTE, ATTRIBUTE_VAL, BIOS_PASSWORD)\n",
    "    REDFISHOBJ.logout()"
   ]
  },
  {
   "cell_type": "markdown",
   "id": "9d0181a9",
   "metadata": {},
   "source": [
    "<div class=\"alert alert-block alert-warning\">\n",
    "<b> When running on the server locally : </b>  use the following values <br>\n",
    "    SYSTEM_URL = None <br>\n",
    "    LOGIN_ACCOUNT = None <br>\n",
    "    LOGIN_PASSWORD = None <br>\n",
    "    <b> When running remotely </b> connect using the secured (https://) address,account name, and password to send https requests <br>\n",
    "    SYSTEM_URL acceptable examples: <br>\n",
    "    \"https://10.0.0.100\" <br>\n",
    "    \"https://ilo.hostname\"\n",
    "</div>"
   ]
  },
  {
   "cell_type": "markdown",
   "id": "9e9f0846",
   "metadata": {},
   "source": [
    "<div class = \"alert alert-block alert-success\">In case you need help 🔗 links to relevant resources :\n",
    "    <br>\n",
    "    1.Python-ilorest-library:<a href = \"https://github.com/HewlettPackard/python-ilorest-library\">LINK</a><br>\n",
    "    2.Hpe ilorest-api explorer:<a href = \"https://ilorestfulapiexplorer.ext.hpe.com/\">LINK</a><br>\n",
    "    3.Rest api: <a href = \"https://restfulapi.net/\">LINK</a><br>\n",
    "    \n",
    "</div>"
   ]
  }
 ],
 "metadata": {
  "kernelspec": {
   "display_name": "Python 3 (ipykernel)",
   "language": "python",
   "name": "python3"
  },
  "language_info": {
   "codemirror_mode": {
    "name": "ipython",
    "version": 3
   },
   "file_extension": ".py",
   "mimetype": "text/x-python",
   "name": "python",
   "nbconvert_exporter": "python",
   "pygments_lexer": "ipython3",
   "version": "3.8.6"
  }
 },
 "nbformat": 4,
 "nbformat_minor": 5
}
