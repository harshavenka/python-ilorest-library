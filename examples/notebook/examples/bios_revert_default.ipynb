{
 "cells": [
  {
   "cell_type": "markdown",
   "id": "3dfca749-3331-47de-9d47-c705fdbfd813",
   "metadata": {
    "tags": []
   },
   "source": [
    "# Reverting the BIOS to default values"
   ]
  },
  {
   "cell_type": "markdown",
   "id": "ac00ccdd-3ac6-49f0-87eb-4f9c9dc185a2",
   "metadata": {},
   "source": [
    "<div class=\"alert alert-block alert-info\">\n",
    "<i>Hello there.!<br></i> Welcome to <b>python-iLOrest-library</b> <br> Here is an example to <b>reset your bios to default settings!!</b> <br> As you are here let's get it done easily.<br>\n",
    "    To perform this u need to have <a href = \"https://libraries.io/pypi/python-ilorest-library#id3\" style = \"none\">python-ilorest-library</a> installed in your machine.<br>\n",
    "    And please keep your username and password handy!\n",
    "    <br>\n",
    "    <b>Also do execute each successive cell once to avoid any errors!</b>\n",
    "    \n",
    "</div>"
   ]
  },
  {
   "cell_type": "markdown",
   "id": "658962be-a0df-4696-ab9e-73f844703ff9",
   "metadata": {},
   "source": [
    "<div class=\"alert alert-block alert-success\">\n",
    "    <h1> 1.</h1>\n",
    "Below we are importing all the necessary modules from the ilorest library!.<br>\n",
    "    <li><a href = \"https://www.tutorialspoint.com/what-is-python-s-sys-module#:~:text=%20What%20is%20Python%27s%20Sys%20Module%20%201,%5B0%5D%20prints%20the...%205%20Output.%20%20More%20\">sys </a>\n",
    "    </li>\n",
    "    <li>json </li>\n",
    "    <li> redfish </li>\n",
    "    \n",
    "</div>"
   ]
  },
  {
   "cell_type": "code",
   "execution_count": 1,
   "id": "53341fc4-f674-4781-bcb1-04bb06d3d1fb",
   "metadata": {},
   "outputs": [],
   "source": [
    "import sys\n",
    "import json\n",
    "from redfish import RedfishClient\n",
    "from redfish.rest.v1 import ServerDownOrUnreachableError\n",
    "\n",
    "from get_resource_directory import get_resource_directory"
   ]
  },
  {
   "cell_type": "markdown",
   "id": "3a347c8c-d1fb-4ccf-94aa-73d7d0f42199",
   "metadata": {
    "tags": []
   },
   "source": [
    "<div class = \"alert alert-block alert-success\">\n",
    "    <h1> 2. </h1>This is our reset bios to default function overview, in the end this will set the bios settings to default.<br>\n",
    "    <i>Let me give you a walk through of it!</i>\n",
    "    <br>\n",
    " There is a hierarchy involved in iLO Rest Api. So we are simply following the hierarchy present to change the settings.<br>\n",
    "\n",
    "1. In the <b>bios_revert_default</b> function we are first using <b>resource_instances</b> variable to obtain information about the resource directory by using get_resource_directory module.\n",
    "<br>\n",
    "    \n",
    "2. In the ILO rest api the information about bios is stored inside the <b>systems json object</b>.\n",
    "    And now through system_response variable,        we are making a http <a href = \"https://developer.mozilla.org/en-US/docs/Web/HTTP/Methods\" style=\"background-color:powderblue;\">GET operation</a> to and trying to obtain the bios settings of iLO system.\n",
    "    <br>\n",
    "\n",
    "3. In the system members response object with different <b>odata_id</b> we get a bios uri .\n",
    "    Then again an http GET request is made and response is stored in <b>bios_response</b>.\n",
    "    Then we set the resret_action_uri.\n",
    "    <br>\n",
    "\n",
    "4. Else i.e; resource directory is enabled then we will simply iterate through all instances inside resources \n",
    "    and if bios attribute is present in <b>@odata.type</b> attribute then we'll set bios_uri and <i> get </i> bios settings of the user through redfish object and then then set the path to post the action we will perform\n",
    "    <br>\n",
    "\n",
    "5. Then we set the bios settings to default using the action type as <i>Bios.ResetBios</i> and say set it to <i>default</i>\n",
    "\n",
    "    Ultimately if the operation was successfull without any errors then get the Success. If not we get the occured error.\n",
    "\n",
    " </div>"
   ]
  },
  {
   "cell_type": "code",
   "execution_count": 2,
   "id": "a5f7d7b2-6ab5-473d-ba19-113d603f9e2d",
   "metadata": {},
   "outputs": [],
   "source": [
    "\n",
    "def bios_revert_default(_redfishobj):\n",
    "\n",
    "    bios_reset_action_uri = None\n",
    "    resource_instances = get_resource_directory(_redfishobj)\n",
    "\n",
    "    if DISABLE_RESOURCE_DIR or not resource_instances:\n",
    "        #if we do not have a resource directory or want to force it's non use to find the relevant URI\n",
    "        \n",
    "        systems_uri = _redfishobj.root.obj['Systems']['@odata.id']\n",
    "        systems_response = _redfishobj.get(systems_uri)\n",
    "        systems_members_uri = next(iter(systems_response.obj['Members']))['@odata.id']\n",
    "        systems_members_response = _redfishobj.get(systems_members_uri)\n",
    "        bios_uri = systems_members_response.obj['Bios']['@odata.id']\n",
    "        bios_response = _redfishobj.get(bios_uri)\n",
    "        bios_reset_action_uri = bios_response.obj['Actions']['#Bios.ResetBios']['target']\n",
    "    else:\n",
    "        #Use Resource directory to find the relevant URI\n",
    "        \n",
    "        for instance in resource_instances:\n",
    "            if '#Bios.' in instance['@odata.type']:\n",
    "                bios_uri = instance['@odata.id']\n",
    "                bios_data = _redfishobj.get(bios_uri)\n",
    "                bios_reset_action_uri = bios_data.obj['Actions']['#Bios.ResetBios']['target']\n",
    "                break\n",
    "\n",
    "    body = {'Action': 'Bios.ResetBios', 'ResetType':'default'}\n",
    "    resp = _redfishobj.post(bios_reset_action_uri, body)\n",
    "\n",
    "    #If iLO responds with soemthing outside of 200 or 201 then lets check the iLO extended info\n",
    "    #error message to see what went wrong\n",
    "    if resp.status == 400:\n",
    "        try:\n",
    "            print(json.dumps(resp.obj['error']['@Message.ExtendedInfo'], indent=4, sort_keys=True))\n",
    "        except Exception:\n",
    "            sys.stderr.write(\"A response error occurred, unable to access iLO Extended Message \"\\\n",
    "                             \"Info...\")\n",
    "    elif resp.status != 200:\n",
    "        sys.stderr.write(\"An http response of \\'%s\\' was returned.\\n\" % resp.status)\n",
    "    else:\n",
    "        print(\"Success!\\n\")\n",
    "        print(json.dumps(resp.dict, indent=4, sort_keys=True))\n"
   ]
  },
  {
   "cell_type": "markdown",
   "id": "d83f828e-a91e-4efc-b70f-e14a01b3cd44",
   "metadata": {},
   "source": [
    "<div class = \"alert alert-block alert-success\">\n",
    "    <h1> 3. </h1>This is Main function overview.<br>\n",
    "    <i>Let me give you a walk through of it!</i>\n",
    "    <br>\n",
    " There is a hierarchy involved in iLO Rest Api. So we are simply following the hierarchy present to change the settings.\n",
    "\n",
    "1. The rest opertions are handled by redfish object which is created by RedfishClient<br>\n",
    "<br>\n",
    "    \n",
    "2. <b>RedfishClient</b> class takes 3 parameters<i> iLO url, Username,Password</i> and returns a redfish object.<br>\n",
    "    <br>\n",
    "\n",
    "3. Once you enter everything a redfish obejct is created with the help of RedfishClient class.<br>\n",
    "    <br>\n",
    "\n",
    "4. ow we try to Login with the help of <i> REDFISHOBJ</i>, if it is successful a session is created and you are logged in, But if           Server       is not avaialbe we get an error saying \"server unreachable\"<br>\n",
    "    <br>\n",
    "5. Then we call <b>bios_revert_default</b> with our redfish object and rest the settings to default.<br>\n",
    "    \n",
    "\n",
    "6. REDFISHOBJ.logout() will take care of logging you out of the ilo.\n",
    "\n",
    " </div>"
   ]
  },
  {
   "cell_type": "code",
   "execution_count": null,
   "id": "6398fb6f-5672-4075-bf73-8af549f172de",
   "metadata": {},
   "outputs": [],
   "source": [
    "if __name__ == \"__main__\":\n",
    "    SYSTEM_URL = input(\"Enter System URL: \")\n",
    "    LOGIN_ACCOUNT = input(\"Enter Name: \")\n",
    "    LOGIN_PASSWORD = input(\"Enter password: \")\n",
    "\n",
    "    # flag to force disable resource directory. Resource directory and associated operations are\n",
    "    # intended for HPE servers.\n",
    "    DISABLE_RESOURCE_DIR = False\n",
    "\n",
    "    try:\n",
    "        # Create a Redfish client object\n",
    "        REDFISHOBJ = RedfishClient(base_url=SYSTEM_URL, username=LOGIN_ACCOUNT, password=LOGIN_PASSWORD)\n",
    "                                                                            \n",
    "        # Login with the Redfish client\n",
    "        REDFISHOBJ.login()\n",
    "    except ServerDownOrUnreachableError as excp:\n",
    "        sys.stderr.write(\"ERROR: server not reachable or does not support RedFish.\\n\")\n",
    "        sys.exit()\n",
    "\n",
    "    bios_revert_default(REDFISHOBJ)\n",
    "    REDFISHOBJ.logout()"
   ]
  },
  {
   "cell_type": "markdown",
   "id": "615ad0b4-156f-478d-b6cb-8a12ad7117c3",
   "metadata": {},
   "source": [
    "<div class=\"alert alert-block alert-warning\">\n",
    "<b> When running on the server locally : </b>  use the following values <br>\n",
    "    SYSTEM_URL = None <br>\n",
    "    LOGIN_ACCOUNT = None <br>\n",
    "    LOGIN_PASSWORD = None <br>\n",
    "    <b> When running remotely </b> connect using the secured (https://) address,account name, and password to send https requests <br>\n",
    "    SYSTEM_URL acceptable examples: <br>\n",
    "    \"https://10.0.0.100\" <br>\n",
    "    \"https://ilo.hostname\"\n",
    "</div>"
   ]
  },
  {
   "cell_type": "markdown",
   "id": "d0ded655-d8e4-452d-b181-783a6b1788f5",
   "metadata": {},
   "source": [
    "<div class = \"alert alert-block alert-success\">In case you need help 🔗 links to relevant resources :\n",
    "    <br>\n",
    "    1.Python-ilorest-library:<a href = \"https://github.com/HewlettPackard/python-ilorest-library\">LINK</a><br>\n",
    "    2.Hpe ilorest-api explorer:<a href = \"https://ilorestfulapiexplorer.ext.hpe.com/\">LINK</a><br>\n",
    "    3.Rest api: <a href = \"https://restfulapi.net/\">LINK</a><br>\n",
    "    \n",
    "</div>"
   ]
  }
 ],
 "metadata": {
  "kernelspec": {
   "display_name": "Python 3 (ipykernel)",
   "language": "python",
   "name": "python3"
  },
  "language_info": {
   "codemirror_mode": {
    "name": "ipython",
    "version": 3
   },
   "file_extension": ".py",
   "mimetype": "text/x-python",
   "name": "python",
   "nbconvert_exporter": "python",
   "pygments_lexer": "ipython3",
   "version": "3.8.6"
  }
 },
 "nbformat": 4,
 "nbformat_minor": 5
}
