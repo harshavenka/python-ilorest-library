{
 "cells": [
  {
   "cell_type": "markdown",
   "metadata": {},
   "source": [
    "# REBOOTING A SERVER"
   ]
  },
  {
   "cell_type": "markdown",
   "metadata": {},
   "source": [
    "<div class=\"alert alert-block alert-info\">\n",
    "<i>Hello User.!<br></i> Welcome to <b>python-iLOrest-library</b> <br> This is the example to <b>perform rebooting of a server.</b> <br> As you are here let's get it done easily.<br>\n",
    "    To perform this u need to have <a href = \"https://github.com/HewlettPackard/python-ilorest-library\" style =\"\">python-ilorest-library</a> installed in your machine.<br>\n",
    "    And please keep your username and password handy!\n",
    "    <br>\n",
    "    <b>Also do execute each successive cell once to avoid any errors!</b>\n",
    "    \n",
    "</div>"
   ]
  },
  {
   "cell_type": "markdown",
   "metadata": {},
   "source": [
    "\n",
    "<div class = \"alert alert-block alert-success\">\n",
    "<h1>1</h1>    \n",
    "In the beginning, we are having some import statements that are actually providing us with the required modules and libraries.\n",
    "for proper execution of our code.</div>"
   ]
  },
  {
   "cell_type": "code",
   "execution_count": 1,
   "metadata": {},
   "outputs": [],
   "source": [
    "\n",
    "import sys\n",
    "import json\n",
    "import getpass\n",
    "from redfish import RedfishClient\n",
    "from redfish.rest.v1 import ServerDownOrUnreachableError\n"
   ]
  },
  {
   "cell_type": "markdown",
   "metadata": {},
   "source": [
    "<div class = \"alert alert-block alert-success\">\n",
    "    <h1>2</h1>   \n",
    "In below cell is the reboot_server function.\n",
    "Current cell is the overview of it, utimately at the end this will reboot the server and provide the response for the same.\n",
    "    <br>\n",
    "    <i>Let me give you a walk through of it!</i>\n",
    "    <br>\n",
    " There is a hierarchy involved in iLO Rest Api. So we are simply following the hierarchy present to obtain the power metrics information.\n",
    "\n",
    "1. In the <b>reboot server</b> function we are first using <b>system_members_response</b> variable to obtain information about the path at which server related information is stored by using couple of get requests.\n",
    "<br>\n",
    "2. If the resource directory was accessible then we simply search for <b><i>'#ComputerSystem'</i></b> key (as this is the place comprising of server related information inside the <b><i>instance['odata.type']</i></b> dictionary and finally making a get request to that location.\n",
    "<br>\n",
    "    \n",
    "3. If we obtain systems_response successfully then a <b>ressettype</b> list is created specifying the parameters that how we want to restart.\n",
    "    \n",
    "\n",
    "4. Later both the parameters are passed into a new dictionary named body and post request is created to make changes on the server side.\n",
    "    A successful <a href = \"https://developer.mozilla.org/en-US/docs/Web/HTTP/Methods/POST\">HTTP post</a> request will set the values at server end so that a server gets rebooted.\n",
    "    \n",
    "\n",
    "5. Lastly, we also save response status inside <b>resp</b> variable and check what is the status code returned to confirm whether the post request was success or not. If success then response by server is printed and if not then error message is printed.\n",
    "\n",
    " </div>"
   ]
  },
  {
   "cell_type": "code",
   "execution_count": null,
   "metadata": {},
   "outputs": [],
   "source": [
    "def reboot_server(_redfishobj):\n",
    "\n",
    "    systems_members_response = None\n",
    "\n",
    "    resource_instances = get_resource_directory(_redfishobj.get_resource_directory)\n",
    "    if DISABLE_RESOURCE_DIR or not resource_instances:\n",
    "        #if we do not have a resource directory or want to force it's non use to find the\n",
    "        #relevant URI\n",
    "        systems_uri = _redfishobj.root.obj['Systems']['@odata.id']\n",
    "        systems_response = _redfishobj.get(systems_uri)\n",
    "        systems_uri = next(iter(systems_response.obj['Members']))['@odata.id']\n",
    "        systems_response = _redfishobj.get(systems_uri)\n",
    "    else:\n",
    "        for instance in resource_instances:\n",
    "            #Use Resource directory to find the relevant URI\n",
    "            if '#ComputerSystem.' in instance['@odata.type']:\n",
    "                systems_uri = instance['@odata.id']\n",
    "                systems_response = _redfishobj.get(systems_uri)\n",
    "\n",
    "    if systems_response:\n",
    "        system_reboot_uri = systems_response.obj['Actions']['#ComputerSystem.Reset']['target']\n",
    "        body = dict()\n",
    "        resettype = ['ForceRestart','GracefulRestart']\n",
    "        body['Action'] = 'ComputerSystem.Reset'\n",
    "        for reset in resettype:\n",
    "            if reset.lower() == \"forcerestart\":\n",
    "                body['ResetType'] = \"ForceRestart\"\n",
    "                resp = _redfishobj.post(system_reboot_uri, body)\n",
    "            elif reset.lower() == \"gracefulrestart\":\n",
    "                body['ResetType'] = \"GracefulRestart\"\n",
    "                resp = _redfishobj.post(system_reboot_uri, body)\n",
    "\n",
    "        #If iLO responds with soemthing outside of 200 or 201 then lets check the iLO extended info\n",
    "        #error message to see what went wrong\n",
    "        if resp.status == 400:\n",
    "            try:\n",
    "                print(json.dumps(resp.obj['error']['@Message.ExtendedInfo'], indent=4, \\\n",
    "                                                                                    sort_keys=True))\n",
    "            except Exception as excp:\n",
    "                sys.stderr.write(\"A response error occurred, unable to access iLO Extended \"\n",
    "                                 \"Message Info...\")\n",
    "        elif resp.status != 200:\n",
    "            sys.stderr.write(\"An http response of \\'%s\\' was returned.\\n\" % resp.status)\n",
    "        else:\n",
    "            print(\"Success!\\n\")\n",
    "            print(json.dumps(resp.dict, indent=4, sort_keys=True))"
   ]
  },
  {
   "cell_type": "markdown",
   "metadata": {},
   "source": [
    "<div class=\"alert alert-block alert-success\">\n",
    "<h1>3</h1>   \n",
    "<b>The Main function: </b> PLEASE ENTER YOU LOGIN CREDENTIALS HERE TO PROCEED FURTHER<br>\n",
    "<ul>\n",
    "        \n",
    "<li>Once your credentials that are enter everything a redfish object is created with the help of RedfishClient class and a session is created and now you will be logged in to the server.</li>\n",
    "<li>If server is down or Unreachable we get server not reachable message!</li>\n",
    "<li>If not then we make a call to <b>reboot_server function</b> to perform rebooting of server.</li>\n",
    "<li>After getting required information <i><b>Redfish.logout()</b></i>closses the particular session and logs us out of the system.</li>\n",
    "    </ul>\n",
    "</div>"
   ]
  },
  {
   "cell_type": "code",
   "execution_count": null,
   "metadata": {},
   "outputs": [],
   "source": [
    "if __name__ == \"__main__\":\n",
    "    \n",
    "    SYSTEM_URL = input(\"Enter System URL: \")\n",
    "    LOGIN_ACCOUNT = input(\"Enter Name: \")\n",
    "    LOGIN_PASSWORD = getpass.getpass(\"Enter password: \")\n",
    "\n",
    "    # flag to force disable resource directory. Resource directory and associated operations are\n",
    "    # intended for HPE servers.\n",
    "    DISABLE_RESOURCE_DIR = False\n",
    "\n",
    "    try:\n",
    "        # Create a Redfish client object\n",
    "        REDFISHOBJ = RedfishClient(base_url=SYSTEM_URL, username=LOGIN_ACCOUNT, \\\n",
    "                                                                            password=LOGIN_PASSWORD)\n",
    "        # Login with the Redfish client\n",
    "        REDFISHOBJ.login()\n",
    "    except ServerDownOrUnreachableError as excp:\n",
    "        sys.stderr.write(\"ERROR: server not reachable or does not support RedFish.\\n\")\n",
    "        sys.exit()\n",
    "\n",
    "    reboot_server(REDFISHOBJ)\n",
    "    REDFISHOBJ.logout()"
   ]
  },
  {
   "cell_type": "markdown",
   "metadata": {},
   "source": [
    "<div class = \"alert alert-block alert-warning\">\n",
    "    <b>When running on the server locally use the following commented values</b><br>\n",
    " SYSTEM_URL = None<br>\n",
    " LOGIN_ACCOUNT = None<br>\n",
    " LOGIN_PASSWORD = None<br>\n",
    "\n",
    "   <b>When running remotely</b> connect using the secured (https://) address,\n",
    "     account name, and password to send https requests\n",
    "    <br>\n",
    "     SYSTEM_URL acceptable examples:<br>\n",
    "     https://10.0.0.100<br>\n",
    "     https://ilo.hostname\n",
    "</div>"
   ]
  },
  {
   "cell_type": "markdown",
   "metadata": {},
   "source": [
    "<div class = \"alert alert-block alert-success\">In case you need help 🔗 links to relevant resources :\n",
    "    <br>\n",
    "    1.Python-ilorest-library:<a href = \"https://github.com/HewlettPackard/python-ilorest-library\">LINK</a><br>\n",
    "    2.Hpe ilorest-api explorer:<a href = \"https://ilorestfulapiexplorer.ext.hpe.com/\">LINK</a><br>\n",
    "    3.Rest api: <a href = \"https://restfulapi.net/\">LINK</a><br>\n",
    "    \n",
    "</div>"
   ]
  }
 ],
 "metadata": {
  "kernelspec": {
   "display_name": "Python 3",
   "language": "python",
   "name": "python3"
  },
  "language_info": {
   "codemirror_mode": {
    "name": "ipython",
    "version": 3
   },
   "file_extension": ".py",
   "mimetype": "text/x-python",
   "name": "python",
   "nbconvert_exporter": "python",
   "pygments_lexer": "ipython3",
   "version": "3.8.5"
  }
 },
 "nbformat": 4,
 "nbformat_minor": 4
}
